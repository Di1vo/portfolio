{
 "cells": [
  {
   "cell_type": "markdown",
   "id": "ed762ef9",
   "metadata": {},
   "source": [
    "# Marketing analysis: Multi-touch attribution"
   ]
  },
  {
   "cell_type": "code",
   "execution_count": 1,
   "id": "b8bfcd0d",
   "metadata": {},
   "outputs": [
    {
     "name": "stdout",
     "output_type": "stream",
     "text": [
      "Requirement already satisfied: pychattr in c:\\programdata\\anaconda3\\lib\\site-packages (0.2.1)\n",
      "Requirement already satisfied: pandas in c:\\programdata\\anaconda3\\lib\\site-packages (from pychattr) (1.2.4)\n",
      "Requirement already satisfied: numpy in c:\\programdata\\anaconda3\\lib\\site-packages (from pychattr) (1.20.1)\n",
      "Requirement already satisfied: python-dateutil>=2.7.3 in c:\\programdata\\anaconda3\\lib\\site-packages (from pandas->pychattr) (2.8.1)\n",
      "Requirement already satisfied: pytz>=2017.3 in c:\\programdata\\anaconda3\\lib\\site-packages (from pandas->pychattr) (2021.1)\n",
      "Requirement already satisfied: six>=1.5 in c:\\programdata\\anaconda3\\lib\\site-packages (from python-dateutil>=2.7.3->pandas->pychattr) (1.15.0)\n"
     ]
    }
   ],
   "source": [
    "!pip install pychattr"
   ]
  },
  {
   "cell_type": "code",
   "execution_count": 2,
   "id": "996b1b85",
   "metadata": {},
   "outputs": [],
   "source": [
    "import pandas as pd\n",
    "import numpy as np"
   ]
  },
  {
   "cell_type": "code",
   "execution_count": 3,
   "id": "48f71ad9",
   "metadata": {},
   "outputs": [],
   "source": [
    "data = pd.read_csv('mta_data.csv')"
   ]
  },
  {
   "cell_type": "code",
   "execution_count": 4,
   "id": "7136ed21",
   "metadata": {},
   "outputs": [
    {
     "data": {
      "text/html": [
       "<div>\n",
       "<style scoped>\n",
       "    .dataframe tbody tr th:only-of-type {\n",
       "        vertical-align: middle;\n",
       "    }\n",
       "\n",
       "    .dataframe tbody tr th {\n",
       "        vertical-align: top;\n",
       "    }\n",
       "\n",
       "    .dataframe thead th {\n",
       "        text-align: right;\n",
       "    }\n",
       "</style>\n",
       "<table border=\"1\" class=\"dataframe\">\n",
       "  <thead>\n",
       "    <tr style=\"text-align: right;\">\n",
       "      <th></th>\n",
       "      <th>path</th>\n",
       "      <th>total_conversions</th>\n",
       "      <th>total_conversion_value</th>\n",
       "      <th>total_null</th>\n",
       "    </tr>\n",
       "  </thead>\n",
       "  <tbody>\n",
       "    <tr>\n",
       "      <th>0</th>\n",
       "      <td>eta &gt; iota &gt; alpha &gt; eta</td>\n",
       "      <td>1</td>\n",
       "      <td>0.244</td>\n",
       "      <td>3</td>\n",
       "    </tr>\n",
       "    <tr>\n",
       "      <th>1</th>\n",
       "      <td>iota &gt; iota &gt; iota &gt; iota</td>\n",
       "      <td>2</td>\n",
       "      <td>3.195</td>\n",
       "      <td>6</td>\n",
       "    </tr>\n",
       "    <tr>\n",
       "      <th>2</th>\n",
       "      <td>alpha &gt; iota &gt; alpha &gt; alpha &gt; alpha &gt; iota &gt; ...</td>\n",
       "      <td>2</td>\n",
       "      <td>6.754</td>\n",
       "      <td>6</td>\n",
       "    </tr>\n",
       "    <tr>\n",
       "      <th>3</th>\n",
       "      <td>beta &gt; eta</td>\n",
       "      <td>1</td>\n",
       "      <td>2.402</td>\n",
       "      <td>3</td>\n",
       "    </tr>\n",
       "    <tr>\n",
       "      <th>4</th>\n",
       "      <td>iota &gt; eta &gt; theta &gt; lambda &gt; lambda &gt; theta &gt;...</td>\n",
       "      <td>0</td>\n",
       "      <td>0.000</td>\n",
       "      <td>2</td>\n",
       "    </tr>\n",
       "    <tr>\n",
       "      <th>...</th>\n",
       "      <td>...</td>\n",
       "      <td>...</td>\n",
       "      <td>...</td>\n",
       "      <td>...</td>\n",
       "    </tr>\n",
       "    <tr>\n",
       "      <th>9995</th>\n",
       "      <td>gamma &gt; alpha &gt; beta &gt; beta</td>\n",
       "      <td>0</td>\n",
       "      <td>0.000</td>\n",
       "      <td>3</td>\n",
       "    </tr>\n",
       "    <tr>\n",
       "      <th>9996</th>\n",
       "      <td>beta &gt; lambda</td>\n",
       "      <td>1</td>\n",
       "      <td>3.557</td>\n",
       "      <td>3</td>\n",
       "    </tr>\n",
       "    <tr>\n",
       "      <th>9997</th>\n",
       "      <td>iota &gt; theta &gt; iota &gt; iota &gt; iota &gt; iota &gt; iot...</td>\n",
       "      <td>1</td>\n",
       "      <td>2.053</td>\n",
       "      <td>3</td>\n",
       "    </tr>\n",
       "    <tr>\n",
       "      <th>9998</th>\n",
       "      <td>eta &gt; beta &gt; beta &gt; eta &gt; eta &gt; beta &gt; eta</td>\n",
       "      <td>1</td>\n",
       "      <td>2.410</td>\n",
       "      <td>3</td>\n",
       "    </tr>\n",
       "    <tr>\n",
       "      <th>9999</th>\n",
       "      <td>eta</td>\n",
       "      <td>1</td>\n",
       "      <td>3.712</td>\n",
       "      <td>2</td>\n",
       "    </tr>\n",
       "  </tbody>\n",
       "</table>\n",
       "<p>10000 rows × 4 columns</p>\n",
       "</div>"
      ],
      "text/plain": [
       "                                                   path  total_conversions  \\\n",
       "0                              eta > iota > alpha > eta                  1   \n",
       "1                             iota > iota > iota > iota                  2   \n",
       "2     alpha > iota > alpha > alpha > alpha > iota > ...                  2   \n",
       "3                                            beta > eta                  1   \n",
       "4     iota > eta > theta > lambda > lambda > theta >...                  0   \n",
       "...                                                 ...                ...   \n",
       "9995                        gamma > alpha > beta > beta                  0   \n",
       "9996                                      beta > lambda                  1   \n",
       "9997  iota > theta > iota > iota > iota > iota > iot...                  1   \n",
       "9998         eta > beta > beta > eta > eta > beta > eta                  1   \n",
       "9999                                                eta                  1   \n",
       "\n",
       "      total_conversion_value  total_null  \n",
       "0                      0.244           3  \n",
       "1                      3.195           6  \n",
       "2                      6.754           6  \n",
       "3                      2.402           3  \n",
       "4                      0.000           2  \n",
       "...                      ...         ...  \n",
       "9995                   0.000           3  \n",
       "9996                   3.557           3  \n",
       "9997                   2.053           3  \n",
       "9998                   2.410           3  \n",
       "9999                   3.712           2  \n",
       "\n",
       "[10000 rows x 4 columns]"
      ]
     },
     "execution_count": 4,
     "metadata": {},
     "output_type": "execute_result"
    }
   ],
   "source": [
    "data"
   ]
  },
  {
   "cell_type": "code",
   "execution_count": 5,
   "id": "2ac1558c",
   "metadata": {},
   "outputs": [],
   "source": [
    "data['path_steps'] = data.path.apply(lambda x: x[0:].split(' > '))"
   ]
  },
  {
   "cell_type": "code",
   "execution_count": 6,
   "id": "78ccde9c",
   "metadata": {},
   "outputs": [
    {
     "data": {
      "text/html": [
       "<div>\n",
       "<style scoped>\n",
       "    .dataframe tbody tr th:only-of-type {\n",
       "        vertical-align: middle;\n",
       "    }\n",
       "\n",
       "    .dataframe tbody tr th {\n",
       "        vertical-align: top;\n",
       "    }\n",
       "\n",
       "    .dataframe thead th {\n",
       "        text-align: right;\n",
       "    }\n",
       "</style>\n",
       "<table border=\"1\" class=\"dataframe\">\n",
       "  <thead>\n",
       "    <tr style=\"text-align: right;\">\n",
       "      <th></th>\n",
       "      <th>path</th>\n",
       "      <th>total_conversions</th>\n",
       "      <th>total_conversion_value</th>\n",
       "      <th>total_null</th>\n",
       "      <th>path_steps</th>\n",
       "    </tr>\n",
       "  </thead>\n",
       "  <tbody>\n",
       "    <tr>\n",
       "      <th>0</th>\n",
       "      <td>eta &gt; iota &gt; alpha &gt; eta</td>\n",
       "      <td>1</td>\n",
       "      <td>0.244</td>\n",
       "      <td>3</td>\n",
       "      <td>[eta, iota, alpha, eta]</td>\n",
       "    </tr>\n",
       "    <tr>\n",
       "      <th>1</th>\n",
       "      <td>iota &gt; iota &gt; iota &gt; iota</td>\n",
       "      <td>2</td>\n",
       "      <td>3.195</td>\n",
       "      <td>6</td>\n",
       "      <td>[iota, iota, iota, iota]</td>\n",
       "    </tr>\n",
       "  </tbody>\n",
       "</table>\n",
       "</div>"
      ],
      "text/plain": [
       "                        path  total_conversions  total_conversion_value  \\\n",
       "0   eta > iota > alpha > eta                  1                   0.244   \n",
       "1  iota > iota > iota > iota                  2                   3.195   \n",
       "\n",
       "   total_null                path_steps  \n",
       "0           3   [eta, iota, alpha, eta]  \n",
       "1           6  [iota, iota, iota, iota]  "
      ]
     },
     "execution_count": 6,
     "metadata": {},
     "output_type": "execute_result"
    }
   ],
   "source": [
    "data.head(2)"
   ]
  },
  {
   "cell_type": "code",
   "execution_count": 7,
   "id": "882d024a",
   "metadata": {},
   "outputs": [
    {
     "data": {
      "text/plain": [
       "['eta',\n",
       " 'iota',\n",
       " 'alpha',\n",
       " 'beta',\n",
       " 'theta',\n",
       " 'lambda',\n",
       " 'kappa',\n",
       " 'zeta',\n",
       " 'epsilon',\n",
       " 'gamma',\n",
       " 'delta',\n",
       " 'mi']"
      ]
     },
     "execution_count": 7,
     "metadata": {},
     "output_type": "execute_result"
    }
   ],
   "source": [
    "def get_channels(channel_lists):\n",
    "    channels = []\n",
    "    for steps in channel_lists:\n",
    "        for step in steps:\n",
    "            if step in channels: pass\n",
    "            else: channels.append(step) \n",
    "    return channels\n",
    "\n",
    "get_channels(data.path_steps)"
   ]
  },
  {
   "cell_type": "code",
   "execution_count": 8,
   "id": "ae6b71aa",
   "metadata": {},
   "outputs": [
    {
     "data": {
      "text/plain": [
       "<AxesSubplot:>"
      ]
     },
     "execution_count": 8,
     "metadata": {},
     "output_type": "execute_result"
    },
    {
     "data": {
      "image/png": "[encoded data removed]",
      "text/plain": [
       "<Figure size 432x288 with 1 Axes>"
      ]
     },
     "metadata": {
      "needs_background": "light"
     },
     "output_type": "display_data"
    }
   ],
   "source": [
    "data.total_conversions.hist()"
   ]
  },
  {
   "cell_type": "code",
   "execution_count": 9,
   "id": "ced8b94a",
   "metadata": {},
   "outputs": [
    {
     "data": {
      "text/plain": [
       "<AxesSubplot:>"
      ]
     },
     "execution_count": 9,
     "metadata": {},
     "output_type": "execute_result"
    },
    {
     "data": {
      "image/png": "[encoded data removed]",
      "text/plain": [
       "<Figure size 432x288 with 1 Axes>"
      ]
     },
     "metadata": {
      "needs_background": "light"
     },
     "output_type": "display_data"
    }
   ],
   "source": [
    "data = data[data['total_conversions'] < 5]\n",
    "data.total_conversions.hist()"
   ]
  },
  {
   "cell_type": "code",
   "execution_count": 10,
   "id": "21a237a3",
   "metadata": {},
   "outputs": [
    {
     "data": {
      "text/plain": [
       "8943"
      ]
     },
     "execution_count": 10,
     "metadata": {},
     "output_type": "execute_result"
    }
   ],
   "source": [
    "data['total_conversions'].sum()"
   ]
  },
  {
   "cell_type": "code",
   "execution_count": 11,
   "id": "c9c62033",
   "metadata": {},
   "outputs": [
    {
     "data": {
      "text/plain": [
       "eta                                                                                              570\n",
       "beta > eta                                                                                       245\n",
       "eta > eta                                                                                        221\n",
       "iota > eta                                                                                       144\n",
       "beta                                                                                             132\n",
       "                                                                                                ... \n",
       "iota > lambda > beta                                                                               1\n",
       "alpha > iota > iota > alpha > alpha > lambda                                                       1\n",
       "beta > beta > beta > beta > gamma > beta > beta > beta > alpha > beta > beta > beta > beta         1\n",
       "eta > beta > eta > alpha > iota > eta                                                              1\n",
       "iota > lambda > lambda > lambda > theta > iota > iota > alpha > iota > iota > lambda > lambda      1\n",
       "Name: path, Length: 5368, dtype: int64"
      ]
     },
     "execution_count": 11,
     "metadata": {},
     "output_type": "execute_result"
    }
   ],
   "source": [
    "data['path'].value_counts()"
   ]
  },
  {
   "cell_type": "markdown",
   "id": "a34c26ba",
   "metadata": {},
   "source": [
    "## Markov Chains"
   ]
  },
  {
   "cell_type": "code",
   "execution_count": 12,
   "id": "ca356a59",
   "metadata": {},
   "outputs": [],
   "source": [
    "import pychattr\n",
    "from pychattr.channel_attribution import MarkovModel"
   ]
  },
  {
   "cell_type": "code",
   "execution_count": 13,
   "id": "456da5ba",
   "metadata": {},
   "outputs": [
    {
     "data": {
      "text/plain": [
       "<pychattr.channel_attribution.markov.MarkovModel at 0x256ba79dd60>"
      ]
     },
     "execution_count": 13,
     "metadata": {},
     "output_type": "execute_result"
    }
   ],
   "source": [
    "from pychattr.channel_attribution import MarkovModel\n",
    "\n",
    "path_feature=\"path\"\n",
    "conversion_feature=\"total_conversions\"\n",
    "null_feature=None\n",
    "revenue_feature=\"total_conversion_value\"\n",
    "cost_feature=None\n",
    "separator=\">\"\n",
    "k_order=1\n",
    "n_simulations=10000\n",
    "max_steps=None\n",
    "return_transition_probs=True\n",
    "random_state=26\n",
    "\n",
    "# instantiate the model\n",
    "mm = MarkovModel(path_feature=path_feature,\n",
    "                 conversion_feature=conversion_feature,\n",
    "                 null_feature=null_feature,\n",
    "                 revenue_feature=revenue_feature,\n",
    "                 cost_feature=cost_feature,\n",
    "                 separator=separator,\n",
    "                 k_order=k_order,\n",
    "                 n_simulations=n_simulations,\n",
    "                 max_steps=max_steps,\n",
    "                 return_transition_probs=return_transition_probs,\n",
    "                 random_state=random_state)\n",
    "\n",
    "# fit the model\n",
    "mm.fit(data)"
   ]
  },
  {
   "cell_type": "code",
   "execution_count": 14,
   "id": "1ba031b4",
   "metadata": {},
   "outputs": [
    {
     "name": "stdout",
     "output_type": "stream",
     "text": [
      "   channel_name  total_conversions  total_revenue\n",
      "0           eta        1807.850113    7908.155669\n",
      "1          iota        1715.904683    7465.950481\n",
      "2         alpha        1272.783062    5684.244695\n",
      "3          beta        1512.640706    6615.384648\n",
      "4         theta         957.278007    4173.873998\n",
      "5        lambda         701.122344    3152.243141\n",
      "6         kappa         191.271096     867.779822\n",
      "7          zeta         269.378585    1168.001639\n",
      "8       epsilon         389.922426    1642.372083\n",
      "9         gamma         121.158861     646.610819\n",
      "10        delta           2.767588      10.232374\n",
      "11           mi           0.922529       2.734575\n"
     ]
    }
   ],
   "source": [
    "# view the simulation results\n",
    "print(mm.attribution_model_)"
   ]
  },
  {
   "cell_type": "code",
   "execution_count": 15,
   "id": "38a1f94c",
   "metadata": {},
   "outputs": [
    {
     "name": "stdout",
     "output_type": "stream",
     "text": [
      "   channel_name  removal_effect  removal_effect_value\n",
      "0           eta          0.5879              0.584404\n",
      "1          iota          0.5580              0.551726\n",
      "2         alpha          0.4139              0.420060\n",
      "3          beta          0.4919              0.488870\n",
      "4         theta          0.3113              0.308445\n",
      "5        lambda          0.2280              0.232947\n",
      "6         kappa          0.0622              0.064128\n",
      "7          zeta          0.0876              0.086314\n",
      "8       epsilon          0.1268              0.121370\n",
      "9         gamma          0.0394              0.047784\n",
      "10        delta          0.0009              0.000756\n",
      "11           mi          0.0003              0.000202\n"
     ]
    }
   ],
   "source": [
    "# view the removal effects\n",
    "print(mm.removal_effects_)"
   ]
  },
  {
   "cell_type": "code",
   "execution_count": 16,
   "id": "82936523",
   "metadata": {},
   "outputs": [],
   "source": [
    "markov_multi_paths = mm.attribution_model_"
   ]
  },
  {
   "cell_type": "code",
   "execution_count": 17,
   "id": "f7538d5a",
   "metadata": {},
   "outputs": [
    {
     "data": {
      "text/html": [
       "<div>\n",
       "<style scoped>\n",
       "    .dataframe tbody tr th:only-of-type {\n",
       "        vertical-align: middle;\n",
       "    }\n",
       "\n",
       "    .dataframe tbody tr th {\n",
       "        vertical-align: top;\n",
       "    }\n",
       "\n",
       "    .dataframe thead th {\n",
       "        text-align: right;\n",
       "    }\n",
       "</style>\n",
       "<table border=\"1\" class=\"dataframe\">\n",
       "  <thead>\n",
       "    <tr style=\"text-align: right;\">\n",
       "      <th></th>\n",
       "      <th>channel_name</th>\n",
       "      <th>total_conversions</th>\n",
       "      <th>total_revenue</th>\n",
       "    </tr>\n",
       "  </thead>\n",
       "  <tbody>\n",
       "    <tr>\n",
       "      <th>0</th>\n",
       "      <td>eta</td>\n",
       "      <td>1807.850113</td>\n",
       "      <td>7908.155669</td>\n",
       "    </tr>\n",
       "    <tr>\n",
       "      <th>1</th>\n",
       "      <td>iota</td>\n",
       "      <td>1715.904683</td>\n",
       "      <td>7465.950481</td>\n",
       "    </tr>\n",
       "    <tr>\n",
       "      <th>2</th>\n",
       "      <td>alpha</td>\n",
       "      <td>1272.783062</td>\n",
       "      <td>5684.244695</td>\n",
       "    </tr>\n",
       "    <tr>\n",
       "      <th>3</th>\n",
       "      <td>beta</td>\n",
       "      <td>1512.640706</td>\n",
       "      <td>6615.384648</td>\n",
       "    </tr>\n",
       "    <tr>\n",
       "      <th>4</th>\n",
       "      <td>theta</td>\n",
       "      <td>957.278007</td>\n",
       "      <td>4173.873998</td>\n",
       "    </tr>\n",
       "    <tr>\n",
       "      <th>5</th>\n",
       "      <td>lambda</td>\n",
       "      <td>701.122344</td>\n",
       "      <td>3152.243141</td>\n",
       "    </tr>\n",
       "    <tr>\n",
       "      <th>6</th>\n",
       "      <td>kappa</td>\n",
       "      <td>191.271096</td>\n",
       "      <td>867.779822</td>\n",
       "    </tr>\n",
       "    <tr>\n",
       "      <th>7</th>\n",
       "      <td>zeta</td>\n",
       "      <td>269.378585</td>\n",
       "      <td>1168.001639</td>\n",
       "    </tr>\n",
       "    <tr>\n",
       "      <th>8</th>\n",
       "      <td>epsilon</td>\n",
       "      <td>389.922426</td>\n",
       "      <td>1642.372083</td>\n",
       "    </tr>\n",
       "    <tr>\n",
       "      <th>9</th>\n",
       "      <td>gamma</td>\n",
       "      <td>121.158861</td>\n",
       "      <td>646.610819</td>\n",
       "    </tr>\n",
       "    <tr>\n",
       "      <th>10</th>\n",
       "      <td>delta</td>\n",
       "      <td>2.767588</td>\n",
       "      <td>10.232374</td>\n",
       "    </tr>\n",
       "    <tr>\n",
       "      <th>11</th>\n",
       "      <td>mi</td>\n",
       "      <td>0.922529</td>\n",
       "      <td>2.734575</td>\n",
       "    </tr>\n",
       "  </tbody>\n",
       "</table>\n",
       "</div>"
      ],
      "text/plain": [
       "   channel_name  total_conversions  total_revenue\n",
       "0           eta        1807.850113    7908.155669\n",
       "1          iota        1715.904683    7465.950481\n",
       "2         alpha        1272.783062    5684.244695\n",
       "3          beta        1512.640706    6615.384648\n",
       "4         theta         957.278007    4173.873998\n",
       "5        lambda         701.122344    3152.243141\n",
       "6         kappa         191.271096     867.779822\n",
       "7          zeta         269.378585    1168.001639\n",
       "8       epsilon         389.922426    1642.372083\n",
       "9         gamma         121.158861     646.610819\n",
       "10        delta           2.767588      10.232374\n",
       "11           mi           0.922529       2.734575"
      ]
     },
     "execution_count": 17,
     "metadata": {},
     "output_type": "execute_result"
    }
   ],
   "source": [
    "markov_multi_paths"
   ]
  },
  {
   "cell_type": "markdown",
   "id": "41f26790",
   "metadata": {},
   "source": [
    "## Shapley"
   ]
  },
  {
   "cell_type": "markdown",
   "id": "c9c72216",
   "metadata": {},
   "source": [
    "Source: https://www.kaggle.com/code/jasonbrewster/shapley-value-attribution-modeling/notebook"
   ]
  },
  {
   "cell_type": "code",
   "execution_count": 18,
   "id": "13b82709",
   "metadata": {},
   "outputs": [],
   "source": [
    "import pandas as pd\n",
    "import itertools\n",
    "from collections import defaultdict\n",
    "from itertools import permutations,combinations\n",
    "import numpy as np"
   ]
  },
  {
   "cell_type": "code",
   "execution_count": 19,
   "id": "76cf2ebf",
   "metadata": {},
   "outputs": [],
   "source": [
    "df_for_shap = data.groupby(['path']).sum().reset_index().drop(['total_null'],axis=1)\n",
    "df_for_shap = df_for_shap.rename(columns={\"path\": \"channels_subset\"})"
   ]
  },
  {
   "cell_type": "code",
   "execution_count": 20,
   "id": "401969d9",
   "metadata": {},
   "outputs": [
    {
     "data": {
      "text/html": [
       "<div>\n",
       "<style scoped>\n",
       "    .dataframe tbody tr th:only-of-type {\n",
       "        vertical-align: middle;\n",
       "    }\n",
       "\n",
       "    .dataframe tbody tr th {\n",
       "        vertical-align: top;\n",
       "    }\n",
       "\n",
       "    .dataframe thead th {\n",
       "        text-align: right;\n",
       "    }\n",
       "</style>\n",
       "<table border=\"1\" class=\"dataframe\">\n",
       "  <thead>\n",
       "    <tr style=\"text-align: right;\">\n",
       "      <th></th>\n",
       "      <th>channels_subset</th>\n",
       "      <th>total_conversions</th>\n",
       "      <th>total_conversion_value</th>\n",
       "    </tr>\n",
       "  </thead>\n",
       "  <tbody>\n",
       "    <tr>\n",
       "      <th>0</th>\n",
       "      <td>alpha &gt; alpha &gt; alpha &gt; alpha &gt; alpha &gt; alpha ...</td>\n",
       "      <td>4</td>\n",
       "      <td>8.096000</td>\n",
       "    </tr>\n",
       "    <tr>\n",
       "      <th>1</th>\n",
       "      <td>alpha &gt; alpha &gt; alpha &gt; alpha &gt; alpha &gt; alpha ...</td>\n",
       "      <td>4</td>\n",
       "      <td>10.296000</td>\n",
       "    </tr>\n",
       "    <tr>\n",
       "      <th>2</th>\n",
       "      <td>alpha &gt; alpha &gt; alpha &gt; alpha &gt; alpha &gt; alpha ...</td>\n",
       "      <td>2</td>\n",
       "      <td>12.649706</td>\n",
       "    </tr>\n",
       "    <tr>\n",
       "      <th>3</th>\n",
       "      <td>alpha &gt; alpha &gt; alpha &gt; alpha &gt; alpha &gt; alpha ...</td>\n",
       "      <td>1</td>\n",
       "      <td>11.440000</td>\n",
       "    </tr>\n",
       "    <tr>\n",
       "      <th>4</th>\n",
       "      <td>alpha &gt; alpha &gt; alpha &gt; alpha &gt; alpha &gt; alpha ...</td>\n",
       "      <td>1</td>\n",
       "      <td>3.500000</td>\n",
       "    </tr>\n",
       "    <tr>\n",
       "      <th>...</th>\n",
       "      <td>...</td>\n",
       "      <td>...</td>\n",
       "      <td>...</td>\n",
       "    </tr>\n",
       "    <tr>\n",
       "      <th>5363</th>\n",
       "      <td>zeta &gt; zeta &gt; zeta &gt; iota &gt; beta &gt; iota &gt; iota...</td>\n",
       "      <td>1</td>\n",
       "      <td>3.956000</td>\n",
       "    </tr>\n",
       "    <tr>\n",
       "      <th>5364</th>\n",
       "      <td>zeta &gt; zeta &gt; zeta &gt; iota &gt; zeta &gt; zeta &gt; alph...</td>\n",
       "      <td>1</td>\n",
       "      <td>2.300000</td>\n",
       "    </tr>\n",
       "    <tr>\n",
       "      <th>5365</th>\n",
       "      <td>zeta &gt; zeta &gt; zeta &gt; lambda &gt; lambda &gt; theta &gt;...</td>\n",
       "      <td>1</td>\n",
       "      <td>5.240000</td>\n",
       "    </tr>\n",
       "    <tr>\n",
       "      <th>5366</th>\n",
       "      <td>zeta &gt; zeta &gt; zeta &gt; zeta &gt; iota &gt; zeta &gt; alph...</td>\n",
       "      <td>1</td>\n",
       "      <td>2.400000</td>\n",
       "    </tr>\n",
       "    <tr>\n",
       "      <th>5367</th>\n",
       "      <td>zeta &gt; zeta &gt; zeta &gt; zeta &gt; zeta &gt; zeta &gt; zeta...</td>\n",
       "      <td>2</td>\n",
       "      <td>10.259000</td>\n",
       "    </tr>\n",
       "  </tbody>\n",
       "</table>\n",
       "<p>5368 rows × 3 columns</p>\n",
       "</div>"
      ],
      "text/plain": [
       "                                        channels_subset  total_conversions  \\\n",
       "0     alpha > alpha > alpha > alpha > alpha > alpha ...                  4   \n",
       "1     alpha > alpha > alpha > alpha > alpha > alpha ...                  4   \n",
       "2     alpha > alpha > alpha > alpha > alpha > alpha ...                  2   \n",
       "3     alpha > alpha > alpha > alpha > alpha > alpha ...                  1   \n",
       "4     alpha > alpha > alpha > alpha > alpha > alpha ...                  1   \n",
       "...                                                 ...                ...   \n",
       "5363  zeta > zeta > zeta > iota > beta > iota > iota...                  1   \n",
       "5364  zeta > zeta > zeta > iota > zeta > zeta > alph...                  1   \n",
       "5365  zeta > zeta > zeta > lambda > lambda > theta >...                  1   \n",
       "5366  zeta > zeta > zeta > zeta > iota > zeta > alph...                  1   \n",
       "5367  zeta > zeta > zeta > zeta > zeta > zeta > zeta...                  2   \n",
       "\n",
       "      total_conversion_value  \n",
       "0                   8.096000  \n",
       "1                  10.296000  \n",
       "2                  12.649706  \n",
       "3                  11.440000  \n",
       "4                   3.500000  \n",
       "...                      ...  \n",
       "5363                3.956000  \n",
       "5364                2.300000  \n",
       "5365                5.240000  \n",
       "5366                2.400000  \n",
       "5367               10.259000  \n",
       "\n",
       "[5368 rows x 3 columns]"
      ]
     },
     "execution_count": 20,
     "metadata": {},
     "output_type": "execute_result"
    }
   ],
   "source": [
    "df_for_shap"
   ]
  },
  {
   "cell_type": "markdown",
   "id": "cd35e63e",
   "metadata": {},
   "source": [
    "Create a function that returns all possible combination of the channel"
   ]
  },
  {
   "cell_type": "code",
   "execution_count": 21,
   "id": "77dc5854",
   "metadata": {},
   "outputs": [],
   "source": [
    "def power_set(List):\n",
    "    PS = [list(j) for i in range(len(List)) for j in itertools.combinations(List, i+1)]\n",
    "    return PS"
   ]
  },
  {
   "cell_type": "markdown",
   "id": "0b9ceb0a",
   "metadata": {},
   "source": [
    "Return all the possible subsets of a set of channels"
   ]
  },
  {
   "cell_type": "code",
   "execution_count": 22,
   "id": "363be0c7",
   "metadata": {},
   "outputs": [],
   "source": [
    "def subsets(s):\n",
    "    '''\n",
    "    This function returns all the possible subsets of a set of channels.\n",
    "    input :\n",
    "            - s: a set of channels.\n",
    "    '''\n",
    "    if len(s)==1:\n",
    "        return s\n",
    "    else:\n",
    "        sub_channels=[]\n",
    "        for i in range(1,len(s)+1):\n",
    "            sub_channels.extend(map(list,itertools.combinations(s, i)))\n",
    "    return list(map(\",\".join,map(sorted,sub_channels)))"
   ]
  },
  {
   "cell_type": "markdown",
   "id": "b1089d3d",
   "metadata": {},
   "source": [
    "Computes the worth of each coalition."
   ]
  },
  {
   "cell_type": "code",
   "execution_count": 23,
   "id": "7d7b78e2",
   "metadata": {},
   "outputs": [],
   "source": [
    "def v_function(A,C_values):\n",
    "    '''\n",
    "    This function computes the worth of each coalition.\n",
    "    inputs:\n",
    "            - A : a coalition of channels.\n",
    "            - C_values : A dictionnary containing the number of conversions that each subset of channels has yielded.\n",
    "    '''\n",
    "    subsets_of_A = subsets(A)\n",
    "    #print(subsets_of_A)\n",
    "    #exit()\n",
    "    worth_of_A=0\n",
    "    for subset in subsets_of_A:\n",
    "        #print(\"subset:\", subset)\n",
    "        if subset in C_values:\n",
    "            #print(\"subset:\", subset, \"; Value:\", C_values[subset])\n",
    "            worth_of_A += C_values[subset]\n",
    "    return worth_of_A"
   ]
  },
  {
   "cell_type": "markdown",
   "id": "56954f42",
   "metadata": {},
   "source": [
    "Calculate the factorial of a number (a non-negative integer)"
   ]
  },
  {
   "cell_type": "code",
   "execution_count": 24,
   "id": "5a51b1a6",
   "metadata": {},
   "outputs": [],
   "source": [
    "def factorial(n):\n",
    "    if n == 0:\n",
    "        return 1\n",
    "    else:\n",
    "        return n * factorial(n-1)"
   ]
  },
  {
   "cell_type": "markdown",
   "id": "5535a252",
   "metadata": {},
   "source": [
    "Get all the channels"
   ]
  },
  {
   "cell_type": "code",
   "execution_count": 25,
   "id": "49f970ca",
   "metadata": {},
   "outputs": [],
   "source": [
    "def get_channels(channel_lists):\n",
    "    channels = []\n",
    "    for steps in channel_lists:\n",
    "        for step in steps:\n",
    "            if step in channels: pass\n",
    "            else: channels.append(step) \n",
    "    return channels"
   ]
  },
  {
   "cell_type": "code",
   "execution_count": 26,
   "id": "5f447cd9",
   "metadata": {},
   "outputs": [],
   "source": [
    "def calculate_shapley(df, col_name, channel_list = None):\n",
    "    '''\n",
    "    This function returns the shapley values\n",
    "            - df: A dataframe with the two columns: ['channels_subset', 'conversion_sum'].\n",
    "            The channel_subset column is the channel(s) associated with the conversion and the count is the sum of the conversions. \n",
    "            - col_name: A string that is the name of the column with conversions\n",
    "            **Make sure that that each value in channel_subset is in alphabetical order. Email,PPC and PPC,Email are the same \n",
    "            in regards to this analysis and should be combined under Email,PPC.\n",
    "            ***Be careful with the distinct number of channels because this can signifcantly slow the perfomance of this function.\n",
    "            Remember the total possible combinations of channels is 2^(n) where n is the number of channels. If you have 30 channels\n",
    "            this is 1,073,741,824 combinations. \n",
    "            \n",
    "    '''\n",
    "    \n",
    "    '''\n",
    "    ### This function does not see all the channels because looks only for \"singles\"\n",
    "    ### In this dataset 6 channels out of 12 are not listed as \"single\" i.e. no user paths\n",
    "    ### in which this channel would be alone. I provided (below) solution that fixes that\n",
    "    '''\n",
    " \n",
    "    if channel_list == None: \n",
    "        #questionable part\n",
    "        df['channels'] = df['channels_subset'].apply(lambda x: x if len(x.split(\">\")) == 1 else np.nan) #here's the delimiter\n",
    "        channels = list(df['channels'].dropna().unique())\n",
    "        #end of questionable part\n",
    "    else:\n",
    "        channels = channel_list\n",
    "    \n",
    "    c_values = df.set_index(\"channels_subset\").to_dict()[col_name]\n",
    "    v_values = {}\n",
    "    for A in power_set(channels):\n",
    "        v_values[','.join(sorted(A))] = v_function(A,c_values)\n",
    "    #print(v_values)\n",
    "    n=len(channels)\n",
    "    shapley_values = defaultdict(int)\n",
    "\n",
    "    for channel in channels:\n",
    "        for A in v_values.keys():\n",
    "            #print(A)\n",
    "            if channel not in A.split(\",\"):\n",
    "                #print(channel)\n",
    "                cardinal_A=len(A.split(\",\"))\n",
    "                A_with_channel = A.split(\",\")\n",
    "                A_with_channel.append(channel)            \n",
    "                A_with_channel=\",\".join(sorted(A_with_channel))\n",
    "                # Weight = |S|!(n-|S|-1)!/n!\n",
    "                weight = (factorial(cardinal_A)*factorial(n-cardinal_A-1)/factorial(n))\n",
    "                # Marginal contribution = v(S U {i})-v(S)\n",
    "                contrib = (v_values[A_with_channel]-v_values[A]) \n",
    "                shapley_values[channel] += weight * contrib\n",
    "        # Add the term corresponding to the empty set\n",
    "        shapley_values[channel]+= v_values[channel]/n \n",
    "        #print('finished channel ',channel)\n",
    "        \n",
    "    return shapley_values"
   ]
  },
  {
   "cell_type": "code",
   "execution_count": 27,
   "id": "6b8459b0",
   "metadata": {},
   "outputs": [],
   "source": [
    "def visualize (data, col_name, channel_list = None):\n",
    "    import matplotlib.pyplot as plt\n",
    "    from pandas.plotting import scatter_matrix\n",
    "    %matplotlib inline\n",
    "    import seaborn as sns\n",
    "    result = pd.DataFrame(list(dict(calculate_shapley(data, col_name, channel_list)).items()),columns = ['Channel','Contributions'])\n",
    "    # Visualization\n",
    "    plt.subplots(figsize=(18, 6))\n",
    "    sns.barplot(x='Channel', y='Contributions', data=result)\n",
    "    plt.show()"
   ]
  },
  {
   "cell_type": "code",
   "execution_count": 28,
   "id": "3acafd6b",
   "metadata": {},
   "outputs": [
    {
     "data": {
      "text/html": [
       "<div>\n",
       "<style scoped>\n",
       "    .dataframe tbody tr th:only-of-type {\n",
       "        vertical-align: middle;\n",
       "    }\n",
       "\n",
       "    .dataframe tbody tr th {\n",
       "        vertical-align: top;\n",
       "    }\n",
       "\n",
       "    .dataframe thead th {\n",
       "        text-align: right;\n",
       "    }\n",
       "</style>\n",
       "<table border=\"1\" class=\"dataframe\">\n",
       "  <thead>\n",
       "    <tr style=\"text-align: right;\">\n",
       "      <th></th>\n",
       "      <th>channels_subset</th>\n",
       "      <th>total_conversions</th>\n",
       "    </tr>\n",
       "  </thead>\n",
       "  <tbody>\n",
       "    <tr>\n",
       "      <th>0</th>\n",
       "      <td>alpha &gt; alpha &gt; alpha &gt; alpha &gt; alpha &gt; alpha ...</td>\n",
       "      <td>4</td>\n",
       "    </tr>\n",
       "    <tr>\n",
       "      <th>1</th>\n",
       "      <td>alpha &gt; alpha &gt; alpha &gt; alpha &gt; alpha &gt; alpha ...</td>\n",
       "      <td>4</td>\n",
       "    </tr>\n",
       "    <tr>\n",
       "      <th>2</th>\n",
       "      <td>alpha &gt; alpha &gt; alpha &gt; alpha &gt; alpha &gt; alpha ...</td>\n",
       "      <td>2</td>\n",
       "    </tr>\n",
       "    <tr>\n",
       "      <th>3</th>\n",
       "      <td>alpha &gt; alpha &gt; alpha &gt; alpha &gt; alpha &gt; alpha ...</td>\n",
       "      <td>1</td>\n",
       "    </tr>\n",
       "    <tr>\n",
       "      <th>4</th>\n",
       "      <td>alpha &gt; alpha &gt; alpha &gt; alpha &gt; alpha &gt; alpha ...</td>\n",
       "      <td>1</td>\n",
       "    </tr>\n",
       "    <tr>\n",
       "      <th>...</th>\n",
       "      <td>...</td>\n",
       "      <td>...</td>\n",
       "    </tr>\n",
       "    <tr>\n",
       "      <th>5363</th>\n",
       "      <td>zeta &gt; zeta &gt; zeta &gt; iota &gt; beta &gt; iota &gt; iota...</td>\n",
       "      <td>1</td>\n",
       "    </tr>\n",
       "    <tr>\n",
       "      <th>5364</th>\n",
       "      <td>zeta &gt; zeta &gt; zeta &gt; iota &gt; zeta &gt; zeta &gt; alph...</td>\n",
       "      <td>1</td>\n",
       "    </tr>\n",
       "    <tr>\n",
       "      <th>5365</th>\n",
       "      <td>zeta &gt; zeta &gt; zeta &gt; lambda &gt; lambda &gt; theta &gt;...</td>\n",
       "      <td>1</td>\n",
       "    </tr>\n",
       "    <tr>\n",
       "      <th>5366</th>\n",
       "      <td>zeta &gt; zeta &gt; zeta &gt; zeta &gt; iota &gt; zeta &gt; alph...</td>\n",
       "      <td>1</td>\n",
       "    </tr>\n",
       "    <tr>\n",
       "      <th>5367</th>\n",
       "      <td>zeta &gt; zeta &gt; zeta &gt; zeta &gt; zeta &gt; zeta &gt; zeta...</td>\n",
       "      <td>2</td>\n",
       "    </tr>\n",
       "  </tbody>\n",
       "</table>\n",
       "<p>5368 rows × 2 columns</p>\n",
       "</div>"
      ],
      "text/plain": [
       "                                        channels_subset  total_conversions\n",
       "0     alpha > alpha > alpha > alpha > alpha > alpha ...                  4\n",
       "1     alpha > alpha > alpha > alpha > alpha > alpha ...                  4\n",
       "2     alpha > alpha > alpha > alpha > alpha > alpha ...                  2\n",
       "3     alpha > alpha > alpha > alpha > alpha > alpha ...                  1\n",
       "4     alpha > alpha > alpha > alpha > alpha > alpha ...                  1\n",
       "...                                                 ...                ...\n",
       "5363  zeta > zeta > zeta > iota > beta > iota > iota...                  1\n",
       "5364  zeta > zeta > zeta > iota > zeta > zeta > alph...                  1\n",
       "5365  zeta > zeta > zeta > lambda > lambda > theta >...                  1\n",
       "5366  zeta > zeta > zeta > zeta > iota > zeta > alph...                  1\n",
       "5367  zeta > zeta > zeta > zeta > zeta > zeta > zeta...                  2\n",
       "\n",
       "[5368 rows x 2 columns]"
      ]
     },
     "execution_count": 28,
     "metadata": {},
     "output_type": "execute_result"
    }
   ],
   "source": [
    "shap = df_for_shap[['channels_subset','total_conversions']]\n",
    "shap"
   ]
  },
  {
   "cell_type": "code",
   "execution_count": 29,
   "id": "dabc88e3",
   "metadata": {},
   "outputs": [
    {
     "data": {
      "image/png": "[encoded data removed]",
      "text/plain": [
       "<Figure size 1296x432 with 1 Axes>"
      ]
     },
     "metadata": {
      "needs_background": "light"
     },
     "output_type": "display_data"
    }
   ],
   "source": [
    "#by total convertion \n",
    "visualize(shap,'total_conversions',get_channels(data.path_steps))"
   ]
  },
  {
   "cell_type": "code",
   "execution_count": 30,
   "id": "c26a19c0",
   "metadata": {},
   "outputs": [
    {
     "data": {
      "image/png": "[encoded data removed]",
      "text/plain": [
       "<Figure size 1296x432 with 1 Axes>"
      ]
     },
     "metadata": {
      "needs_background": "light"
     },
     "output_type": "display_data"
    }
   ],
   "source": [
    "#by total convertion_value\n",
    "shap = df_for_shap[['channels_subset','total_conversion_value']]\n",
    "visualize(shap,'total_conversion_value',get_channels(data.path_steps))"
   ]
  },
  {
   "cell_type": "markdown",
   "id": "2f57bc6b",
   "metadata": {},
   "source": [
    "## Last Touch Attribution"
   ]
  },
  {
   "cell_type": "code",
   "execution_count": 31,
   "id": "7eb4ad8b",
   "metadata": {},
   "outputs": [
    {
     "name": "stderr",
     "output_type": "stream",
     "text": [
      "<ipython-input-31-32aee20d5b63>:1: SettingWithCopyWarning: \n",
      "A value is trying to be set on a copy of a slice from a DataFrame.\n",
      "Try using .loc[row_indexer,col_indexer] = value instead\n",
      "\n",
      "See the caveats in the documentation: https://pandas.pydata.org/pandas-docs/stable/user_guide/indexing.html#returning-a-view-versus-a-copy\n",
      "  data['last_channel'] = data.path_steps.apply(lambda x:x[-1])\n"
     ]
    }
   ],
   "source": [
    "data['last_channel'] = data.path_steps.apply(lambda x:x[-1])"
   ]
  },
  {
   "cell_type": "code",
   "execution_count": 32,
   "id": "bd550e9d",
   "metadata": {},
   "outputs": [
    {
     "data": {
      "text/html": [
       "<div>\n",
       "<style scoped>\n",
       "    .dataframe tbody tr th:only-of-type {\n",
       "        vertical-align: middle;\n",
       "    }\n",
       "\n",
       "    .dataframe tbody tr th {\n",
       "        vertical-align: top;\n",
       "    }\n",
       "\n",
       "    .dataframe thead th {\n",
       "        text-align: right;\n",
       "    }\n",
       "</style>\n",
       "<table border=\"1\" class=\"dataframe\">\n",
       "  <thead>\n",
       "    <tr style=\"text-align: right;\">\n",
       "      <th></th>\n",
       "      <th>path</th>\n",
       "      <th>total_conversions</th>\n",
       "      <th>total_conversion_value</th>\n",
       "      <th>total_null</th>\n",
       "      <th>path_steps</th>\n",
       "      <th>last_channel</th>\n",
       "    </tr>\n",
       "  </thead>\n",
       "  <tbody>\n",
       "    <tr>\n",
       "      <th>0</th>\n",
       "      <td>eta &gt; iota &gt; alpha &gt; eta</td>\n",
       "      <td>1</td>\n",
       "      <td>0.244</td>\n",
       "      <td>3</td>\n",
       "      <td>[eta, iota, alpha, eta]</td>\n",
       "      <td>eta</td>\n",
       "    </tr>\n",
       "    <tr>\n",
       "      <th>1</th>\n",
       "      <td>iota &gt; iota &gt; iota &gt; iota</td>\n",
       "      <td>2</td>\n",
       "      <td>3.195</td>\n",
       "      <td>6</td>\n",
       "      <td>[iota, iota, iota, iota]</td>\n",
       "      <td>iota</td>\n",
       "    </tr>\n",
       "    <tr>\n",
       "      <th>2</th>\n",
       "      <td>alpha &gt; iota &gt; alpha &gt; alpha &gt; alpha &gt; iota &gt; ...</td>\n",
       "      <td>2</td>\n",
       "      <td>6.754</td>\n",
       "      <td>6</td>\n",
       "      <td>[alpha, iota, alpha, alpha, alpha, iota, alpha...</td>\n",
       "      <td>alpha</td>\n",
       "    </tr>\n",
       "    <tr>\n",
       "      <th>3</th>\n",
       "      <td>beta &gt; eta</td>\n",
       "      <td>1</td>\n",
       "      <td>2.402</td>\n",
       "      <td>3</td>\n",
       "      <td>[beta, eta]</td>\n",
       "      <td>eta</td>\n",
       "    </tr>\n",
       "    <tr>\n",
       "      <th>4</th>\n",
       "      <td>iota &gt; eta &gt; theta &gt; lambda &gt; lambda &gt; theta &gt;...</td>\n",
       "      <td>0</td>\n",
       "      <td>0.000</td>\n",
       "      <td>2</td>\n",
       "      <td>[iota, eta, theta, lambda, lambda, theta, lambda]</td>\n",
       "      <td>lambda</td>\n",
       "    </tr>\n",
       "  </tbody>\n",
       "</table>\n",
       "</div>"
      ],
      "text/plain": [
       "                                                path  total_conversions  \\\n",
       "0                           eta > iota > alpha > eta                  1   \n",
       "1                          iota > iota > iota > iota                  2   \n",
       "2  alpha > iota > alpha > alpha > alpha > iota > ...                  2   \n",
       "3                                         beta > eta                  1   \n",
       "4  iota > eta > theta > lambda > lambda > theta >...                  0   \n",
       "\n",
       "   total_conversion_value  total_null  \\\n",
       "0                   0.244           3   \n",
       "1                   3.195           6   \n",
       "2                   6.754           6   \n",
       "3                   2.402           3   \n",
       "4                   0.000           2   \n",
       "\n",
       "                                          path_steps last_channel  \n",
       "0                            [eta, iota, alpha, eta]          eta  \n",
       "1                           [iota, iota, iota, iota]         iota  \n",
       "2  [alpha, iota, alpha, alpha, alpha, iota, alpha...        alpha  \n",
       "3                                        [beta, eta]          eta  \n",
       "4  [iota, eta, theta, lambda, lambda, theta, lambda]       lambda  "
      ]
     },
     "execution_count": 32,
     "metadata": {},
     "output_type": "execute_result"
    }
   ],
   "source": [
    "data.head()"
   ]
  },
  {
   "cell_type": "code",
   "execution_count": 33,
   "id": "220e8224",
   "metadata": {},
   "outputs": [
    {
     "data": {
      "text/plain": [
       "['eta',\n",
       " 'iota',\n",
       " 'alpha',\n",
       " 'beta',\n",
       " 'theta',\n",
       " 'lambda',\n",
       " 'kappa',\n",
       " 'zeta',\n",
       " 'epsilon',\n",
       " 'gamma',\n",
       " 'delta',\n",
       " 'mi']"
      ]
     },
     "execution_count": 33,
     "metadata": {},
     "output_type": "execute_result"
    }
   ],
   "source": [
    "channels = get_channels(data.path_steps)\n",
    "channels"
   ]
  },
  {
   "cell_type": "code",
   "execution_count": 34,
   "id": "a27410d5",
   "metadata": {},
   "outputs": [],
   "source": [
    "conversions_lt = dict.fromkeys(channels,0)\n",
    "for index, row in data.iterrows():\n",
    "    conversions_lt[row['last_channel']]+=1"
   ]
  },
  {
   "cell_type": "code",
   "execution_count": 35,
   "id": "0b9ccc75",
   "metadata": {},
   "outputs": [
    {
     "data": {
      "text/plain": [
       "{'eta': 3259,\n",
       " 'iota': 1670,\n",
       " 'alpha': 1729,\n",
       " 'beta': 761,\n",
       " 'theta': 657,\n",
       " 'lambda': 756,\n",
       " 'kappa': 252,\n",
       " 'zeta': 99,\n",
       " 'epsilon': 523,\n",
       " 'gamma': 61,\n",
       " 'delta': 6,\n",
       " 'mi': 1}"
      ]
     },
     "execution_count": 35,
     "metadata": {},
     "output_type": "execute_result"
    }
   ],
   "source": [
    "conversions_lt"
   ]
  },
  {
   "cell_type": "markdown",
   "id": "23325cce",
   "metadata": {},
   "source": [
    "## First Touch Attribution"
   ]
  },
  {
   "cell_type": "code",
   "execution_count": 36,
   "id": "ad16c4ee",
   "metadata": {},
   "outputs": [
    {
     "name": "stderr",
     "output_type": "stream",
     "text": [
      "<ipython-input-36-e2273b0e714a>:1: SettingWithCopyWarning: \n",
      "A value is trying to be set on a copy of a slice from a DataFrame.\n",
      "Try using .loc[row_indexer,col_indexer] = value instead\n",
      "\n",
      "See the caveats in the documentation: https://pandas.pydata.org/pandas-docs/stable/user_guide/indexing.html#returning-a-view-versus-a-copy\n",
      "  data['first_channel'] = data.path_steps.apply(lambda x:x[0])\n"
     ]
    }
   ],
   "source": [
    "data['first_channel'] = data.path_steps.apply(lambda x:x[0])"
   ]
  },
  {
   "cell_type": "code",
   "execution_count": 37,
   "id": "3c181140",
   "metadata": {},
   "outputs": [
    {
     "data": {
      "text/html": [
       "<div>\n",
       "<style scoped>\n",
       "    .dataframe tbody tr th:only-of-type {\n",
       "        vertical-align: middle;\n",
       "    }\n",
       "\n",
       "    .dataframe tbody tr th {\n",
       "        vertical-align: top;\n",
       "    }\n",
       "\n",
       "    .dataframe thead th {\n",
       "        text-align: right;\n",
       "    }\n",
       "</style>\n",
       "<table border=\"1\" class=\"dataframe\">\n",
       "  <thead>\n",
       "    <tr style=\"text-align: right;\">\n",
       "      <th></th>\n",
       "      <th>path</th>\n",
       "      <th>total_conversions</th>\n",
       "      <th>total_conversion_value</th>\n",
       "      <th>total_null</th>\n",
       "      <th>path_steps</th>\n",
       "      <th>last_channel</th>\n",
       "      <th>first_channel</th>\n",
       "    </tr>\n",
       "  </thead>\n",
       "  <tbody>\n",
       "    <tr>\n",
       "      <th>0</th>\n",
       "      <td>eta &gt; iota &gt; alpha &gt; eta</td>\n",
       "      <td>1</td>\n",
       "      <td>0.244</td>\n",
       "      <td>3</td>\n",
       "      <td>[eta, iota, alpha, eta]</td>\n",
       "      <td>eta</td>\n",
       "      <td>eta</td>\n",
       "    </tr>\n",
       "    <tr>\n",
       "      <th>1</th>\n",
       "      <td>iota &gt; iota &gt; iota &gt; iota</td>\n",
       "      <td>2</td>\n",
       "      <td>3.195</td>\n",
       "      <td>6</td>\n",
       "      <td>[iota, iota, iota, iota]</td>\n",
       "      <td>iota</td>\n",
       "      <td>iota</td>\n",
       "    </tr>\n",
       "    <tr>\n",
       "      <th>2</th>\n",
       "      <td>alpha &gt; iota &gt; alpha &gt; alpha &gt; alpha &gt; iota &gt; ...</td>\n",
       "      <td>2</td>\n",
       "      <td>6.754</td>\n",
       "      <td>6</td>\n",
       "      <td>[alpha, iota, alpha, alpha, alpha, iota, alpha...</td>\n",
       "      <td>alpha</td>\n",
       "      <td>alpha</td>\n",
       "    </tr>\n",
       "    <tr>\n",
       "      <th>3</th>\n",
       "      <td>beta &gt; eta</td>\n",
       "      <td>1</td>\n",
       "      <td>2.402</td>\n",
       "      <td>3</td>\n",
       "      <td>[beta, eta]</td>\n",
       "      <td>eta</td>\n",
       "      <td>beta</td>\n",
       "    </tr>\n",
       "    <tr>\n",
       "      <th>4</th>\n",
       "      <td>iota &gt; eta &gt; theta &gt; lambda &gt; lambda &gt; theta &gt;...</td>\n",
       "      <td>0</td>\n",
       "      <td>0.000</td>\n",
       "      <td>2</td>\n",
       "      <td>[iota, eta, theta, lambda, lambda, theta, lambda]</td>\n",
       "      <td>lambda</td>\n",
       "      <td>iota</td>\n",
       "    </tr>\n",
       "  </tbody>\n",
       "</table>\n",
       "</div>"
      ],
      "text/plain": [
       "                                                path  total_conversions  \\\n",
       "0                           eta > iota > alpha > eta                  1   \n",
       "1                          iota > iota > iota > iota                  2   \n",
       "2  alpha > iota > alpha > alpha > alpha > iota > ...                  2   \n",
       "3                                         beta > eta                  1   \n",
       "4  iota > eta > theta > lambda > lambda > theta >...                  0   \n",
       "\n",
       "   total_conversion_value  total_null  \\\n",
       "0                   0.244           3   \n",
       "1                   3.195           6   \n",
       "2                   6.754           6   \n",
       "3                   2.402           3   \n",
       "4                   0.000           2   \n",
       "\n",
       "                                          path_steps last_channel  \\\n",
       "0                            [eta, iota, alpha, eta]          eta   \n",
       "1                           [iota, iota, iota, iota]         iota   \n",
       "2  [alpha, iota, alpha, alpha, alpha, iota, alpha...        alpha   \n",
       "3                                        [beta, eta]          eta   \n",
       "4  [iota, eta, theta, lambda, lambda, theta, lambda]       lambda   \n",
       "\n",
       "  first_channel  \n",
       "0           eta  \n",
       "1          iota  \n",
       "2         alpha  \n",
       "3          beta  \n",
       "4          iota  "
      ]
     },
     "execution_count": 37,
     "metadata": {},
     "output_type": "execute_result"
    }
   ],
   "source": [
    "data.head()"
   ]
  },
  {
   "cell_type": "code",
   "execution_count": 38,
   "id": "a14ad20f",
   "metadata": {},
   "outputs": [],
   "source": [
    "conversions_ft = dict.fromkeys(channels,0)\n",
    "for index, row in data.iterrows():\n",
    "    conversions_ft[row['first_channel']]+=1"
   ]
  },
  {
   "cell_type": "code",
   "execution_count": 39,
   "id": "74e5fff7",
   "metadata": {},
   "outputs": [
    {
     "data": {
      "text/plain": [
       "{'eta': 2148,\n",
       " 'iota': 3050,\n",
       " 'alpha': 365,\n",
       " 'beta': 2610,\n",
       " 'theta': 842,\n",
       " 'lambda': 441,\n",
       " 'kappa': 79,\n",
       " 'zeta': 31,\n",
       " 'epsilon': 75,\n",
       " 'gamma': 131,\n",
       " 'delta': 1,\n",
       " 'mi': 1}"
      ]
     },
     "execution_count": 39,
     "metadata": {},
     "output_type": "execute_result"
    }
   ],
   "source": [
    "conversions_ft"
   ]
  },
  {
   "cell_type": "code",
   "execution_count": 40,
   "id": "082d1054",
   "metadata": {},
   "outputs": [
    {
     "data": {
      "text/html": [
       "<div>\n",
       "<style scoped>\n",
       "    .dataframe tbody tr th:only-of-type {\n",
       "        vertical-align: middle;\n",
       "    }\n",
       "\n",
       "    .dataframe tbody tr th {\n",
       "        vertical-align: top;\n",
       "    }\n",
       "\n",
       "    .dataframe thead th {\n",
       "        text-align: right;\n",
       "    }\n",
       "</style>\n",
       "<table border=\"1\" class=\"dataframe\">\n",
       "  <thead>\n",
       "    <tr style=\"text-align: right;\">\n",
       "      <th></th>\n",
       "      <th>First click</th>\n",
       "    </tr>\n",
       "  </thead>\n",
       "  <tbody>\n",
       "    <tr>\n",
       "      <th>eta</th>\n",
       "      <td>2148</td>\n",
       "    </tr>\n",
       "    <tr>\n",
       "      <th>iota</th>\n",
       "      <td>3050</td>\n",
       "    </tr>\n",
       "    <tr>\n",
       "      <th>alpha</th>\n",
       "      <td>365</td>\n",
       "    </tr>\n",
       "    <tr>\n",
       "      <th>beta</th>\n",
       "      <td>2610</td>\n",
       "    </tr>\n",
       "    <tr>\n",
       "      <th>theta</th>\n",
       "      <td>842</td>\n",
       "    </tr>\n",
       "    <tr>\n",
       "      <th>lambda</th>\n",
       "      <td>441</td>\n",
       "    </tr>\n",
       "    <tr>\n",
       "      <th>kappa</th>\n",
       "      <td>79</td>\n",
       "    </tr>\n",
       "    <tr>\n",
       "      <th>zeta</th>\n",
       "      <td>31</td>\n",
       "    </tr>\n",
       "    <tr>\n",
       "      <th>epsilon</th>\n",
       "      <td>75</td>\n",
       "    </tr>\n",
       "    <tr>\n",
       "      <th>gamma</th>\n",
       "      <td>131</td>\n",
       "    </tr>\n",
       "    <tr>\n",
       "      <th>delta</th>\n",
       "      <td>1</td>\n",
       "    </tr>\n",
       "    <tr>\n",
       "      <th>mi</th>\n",
       "      <td>1</td>\n",
       "    </tr>\n",
       "  </tbody>\n",
       "</table>\n",
       "</div>"
      ],
      "text/plain": [
       "         First click\n",
       "eta             2148\n",
       "iota            3050\n",
       "alpha            365\n",
       "beta            2610\n",
       "theta            842\n",
       "lambda           441\n",
       "kappa             79\n",
       "zeta              31\n",
       "epsilon           75\n",
       "gamma            131\n",
       "delta              1\n",
       "mi                 1"
      ]
     },
     "execution_count": 40,
     "metadata": {},
     "output_type": "execute_result"
    }
   ],
   "source": [
    "ft = pd.DataFrame.from_dict(conversions_ft, orient='index',columns=['First click'])\n",
    "ft"
   ]
  },
  {
   "cell_type": "code",
   "execution_count": 41,
   "id": "94c788d2",
   "metadata": {},
   "outputs": [
    {
     "data": {
      "text/html": [
       "<div>\n",
       "<style scoped>\n",
       "    .dataframe tbody tr th:only-of-type {\n",
       "        vertical-align: middle;\n",
       "    }\n",
       "\n",
       "    .dataframe tbody tr th {\n",
       "        vertical-align: top;\n",
       "    }\n",
       "\n",
       "    .dataframe thead th {\n",
       "        text-align: right;\n",
       "    }\n",
       "</style>\n",
       "<table border=\"1\" class=\"dataframe\">\n",
       "  <thead>\n",
       "    <tr style=\"text-align: right;\">\n",
       "      <th></th>\n",
       "      <th>Last click</th>\n",
       "    </tr>\n",
       "  </thead>\n",
       "  <tbody>\n",
       "    <tr>\n",
       "      <th>eta</th>\n",
       "      <td>3259</td>\n",
       "    </tr>\n",
       "    <tr>\n",
       "      <th>iota</th>\n",
       "      <td>1670</td>\n",
       "    </tr>\n",
       "    <tr>\n",
       "      <th>alpha</th>\n",
       "      <td>1729</td>\n",
       "    </tr>\n",
       "    <tr>\n",
       "      <th>beta</th>\n",
       "      <td>761</td>\n",
       "    </tr>\n",
       "    <tr>\n",
       "      <th>theta</th>\n",
       "      <td>657</td>\n",
       "    </tr>\n",
       "    <tr>\n",
       "      <th>lambda</th>\n",
       "      <td>756</td>\n",
       "    </tr>\n",
       "    <tr>\n",
       "      <th>kappa</th>\n",
       "      <td>252</td>\n",
       "    </tr>\n",
       "    <tr>\n",
       "      <th>zeta</th>\n",
       "      <td>99</td>\n",
       "    </tr>\n",
       "    <tr>\n",
       "      <th>epsilon</th>\n",
       "      <td>523</td>\n",
       "    </tr>\n",
       "    <tr>\n",
       "      <th>gamma</th>\n",
       "      <td>61</td>\n",
       "    </tr>\n",
       "    <tr>\n",
       "      <th>delta</th>\n",
       "      <td>6</td>\n",
       "    </tr>\n",
       "    <tr>\n",
       "      <th>mi</th>\n",
       "      <td>1</td>\n",
       "    </tr>\n",
       "  </tbody>\n",
       "</table>\n",
       "</div>"
      ],
      "text/plain": [
       "         Last click\n",
       "eta            3259\n",
       "iota           1670\n",
       "alpha          1729\n",
       "beta            761\n",
       "theta           657\n",
       "lambda          756\n",
       "kappa           252\n",
       "zeta             99\n",
       "epsilon         523\n",
       "gamma            61\n",
       "delta             6\n",
       "mi                1"
      ]
     },
     "execution_count": 41,
     "metadata": {},
     "output_type": "execute_result"
    }
   ],
   "source": [
    "lt = pd.DataFrame.from_dict(conversions_lt, orient='index',columns=['Last click'])\n",
    "lt"
   ]
  },
  {
   "cell_type": "code",
   "execution_count": 73,
   "id": "ec5a152c",
   "metadata": {},
   "outputs": [],
   "source": [
    "result = ft.join(lt, how=\"outer\")"
   ]
  },
  {
   "cell_type": "code",
   "execution_count": 74,
   "id": "02c8f000",
   "metadata": {},
   "outputs": [
    {
     "data": {
      "text/html": [
       "<div>\n",
       "<style scoped>\n",
       "    .dataframe tbody tr th:only-of-type {\n",
       "        vertical-align: middle;\n",
       "    }\n",
       "\n",
       "    .dataframe tbody tr th {\n",
       "        vertical-align: top;\n",
       "    }\n",
       "\n",
       "    .dataframe thead th {\n",
       "        text-align: right;\n",
       "    }\n",
       "</style>\n",
       "<table border=\"1\" class=\"dataframe\">\n",
       "  <thead>\n",
       "    <tr style=\"text-align: right;\">\n",
       "      <th></th>\n",
       "      <th>First click</th>\n",
       "      <th>Last click</th>\n",
       "    </tr>\n",
       "  </thead>\n",
       "  <tbody>\n",
       "    <tr>\n",
       "      <th>eta</th>\n",
       "      <td>2148</td>\n",
       "      <td>3259</td>\n",
       "    </tr>\n",
       "    <tr>\n",
       "      <th>iota</th>\n",
       "      <td>3050</td>\n",
       "      <td>1670</td>\n",
       "    </tr>\n",
       "    <tr>\n",
       "      <th>alpha</th>\n",
       "      <td>365</td>\n",
       "      <td>1729</td>\n",
       "    </tr>\n",
       "    <tr>\n",
       "      <th>beta</th>\n",
       "      <td>2610</td>\n",
       "      <td>761</td>\n",
       "    </tr>\n",
       "    <tr>\n",
       "      <th>theta</th>\n",
       "      <td>842</td>\n",
       "      <td>657</td>\n",
       "    </tr>\n",
       "    <tr>\n",
       "      <th>lambda</th>\n",
       "      <td>441</td>\n",
       "      <td>756</td>\n",
       "    </tr>\n",
       "    <tr>\n",
       "      <th>kappa</th>\n",
       "      <td>79</td>\n",
       "      <td>252</td>\n",
       "    </tr>\n",
       "    <tr>\n",
       "      <th>zeta</th>\n",
       "      <td>31</td>\n",
       "      <td>99</td>\n",
       "    </tr>\n",
       "    <tr>\n",
       "      <th>epsilon</th>\n",
       "      <td>75</td>\n",
       "      <td>523</td>\n",
       "    </tr>\n",
       "    <tr>\n",
       "      <th>gamma</th>\n",
       "      <td>131</td>\n",
       "      <td>61</td>\n",
       "    </tr>\n",
       "    <tr>\n",
       "      <th>delta</th>\n",
       "      <td>1</td>\n",
       "      <td>6</td>\n",
       "    </tr>\n",
       "    <tr>\n",
       "      <th>mi</th>\n",
       "      <td>1</td>\n",
       "      <td>1</td>\n",
       "    </tr>\n",
       "  </tbody>\n",
       "</table>\n",
       "</div>"
      ],
      "text/plain": [
       "         First click  Last click\n",
       "eta             2148        3259\n",
       "iota            3050        1670\n",
       "alpha            365        1729\n",
       "beta            2610         761\n",
       "theta            842         657\n",
       "lambda           441         756\n",
       "kappa             79         252\n",
       "zeta              31          99\n",
       "epsilon           75         523\n",
       "gamma            131          61\n",
       "delta              1           6\n",
       "mi                 1           1"
      ]
     },
     "execution_count": 74,
     "metadata": {},
     "output_type": "execute_result"
    }
   ],
   "source": [
    "result"
   ]
  },
  {
   "cell_type": "code",
   "execution_count": 75,
   "id": "b7eab0de",
   "metadata": {},
   "outputs": [],
   "source": [
    "shap = df_for_shap[['channels_subset','total_conversion_value']]\n",
    "shap_res = calculate_shapley(shap,'total_conversion_value',get_channels(data.path_steps))\n",
    "shap_res = pd.DataFrame.from_dict(shap_res, orient='index',columns=['Shapley'])\n",
    "\n",
    "markov_res = mm.attribution_model_.set_index('channel_name').drop('total_revenue',axis=1)\n",
    "markov_res.rename(columns={\"total_conversions\": \"Markov\"},inplace=True)"
   ]
  },
  {
   "cell_type": "code",
   "execution_count": 76,
   "id": "f816ca15",
   "metadata": {},
   "outputs": [],
   "source": [
    "summary = pd.merge(pd.merge(result, shap_res, left_index=True, right_index=True),\n",
    "          markov_res, left_index=True, right_index=True)"
   ]
  },
  {
   "cell_type": "code",
   "execution_count": 77,
   "id": "5b7936ad",
   "metadata": {},
   "outputs": [
    {
     "data": {
      "text/html": [
       "<div>\n",
       "<style scoped>\n",
       "    .dataframe tbody tr th:only-of-type {\n",
       "        vertical-align: middle;\n",
       "    }\n",
       "\n",
       "    .dataframe tbody tr th {\n",
       "        vertical-align: top;\n",
       "    }\n",
       "\n",
       "    .dataframe thead th {\n",
       "        text-align: right;\n",
       "    }\n",
       "</style>\n",
       "<table border=\"1\" class=\"dataframe\">\n",
       "  <thead>\n",
       "    <tr style=\"text-align: right;\">\n",
       "      <th></th>\n",
       "      <th>First click</th>\n",
       "      <th>Last click</th>\n",
       "      <th>Shapley</th>\n",
       "      <th>Markov</th>\n",
       "    </tr>\n",
       "  </thead>\n",
       "  <tbody>\n",
       "    <tr>\n",
       "      <th>eta</th>\n",
       "      <td>2148</td>\n",
       "      <td>3259</td>\n",
       "      <td>2658.221043</td>\n",
       "      <td>1807.850113</td>\n",
       "    </tr>\n",
       "    <tr>\n",
       "      <th>iota</th>\n",
       "      <td>3050</td>\n",
       "      <td>1670</td>\n",
       "      <td>0.000000</td>\n",
       "      <td>1715.904683</td>\n",
       "    </tr>\n",
       "    <tr>\n",
       "      <th>alpha</th>\n",
       "      <td>365</td>\n",
       "      <td>1729</td>\n",
       "      <td>0.000000</td>\n",
       "      <td>1272.783062</td>\n",
       "    </tr>\n",
       "    <tr>\n",
       "      <th>beta</th>\n",
       "      <td>2610</td>\n",
       "      <td>761</td>\n",
       "      <td>682.070267</td>\n",
       "      <td>1512.640706</td>\n",
       "    </tr>\n",
       "    <tr>\n",
       "      <th>theta</th>\n",
       "      <td>842</td>\n",
       "      <td>657</td>\n",
       "      <td>0.000000</td>\n",
       "      <td>957.278007</td>\n",
       "    </tr>\n",
       "    <tr>\n",
       "      <th>lambda</th>\n",
       "      <td>441</td>\n",
       "      <td>756</td>\n",
       "      <td>0.000000</td>\n",
       "      <td>701.122344</td>\n",
       "    </tr>\n",
       "    <tr>\n",
       "      <th>kappa</th>\n",
       "      <td>79</td>\n",
       "      <td>252</td>\n",
       "      <td>15.788750</td>\n",
       "      <td>191.271096</td>\n",
       "    </tr>\n",
       "    <tr>\n",
       "      <th>zeta</th>\n",
       "      <td>31</td>\n",
       "      <td>99</td>\n",
       "      <td>0.000000</td>\n",
       "      <td>269.378585</td>\n",
       "    </tr>\n",
       "    <tr>\n",
       "      <th>epsilon</th>\n",
       "      <td>75</td>\n",
       "      <td>523</td>\n",
       "      <td>15.784000</td>\n",
       "      <td>389.922426</td>\n",
       "    </tr>\n",
       "    <tr>\n",
       "      <th>gamma</th>\n",
       "      <td>131</td>\n",
       "      <td>61</td>\n",
       "      <td>28.248667</td>\n",
       "      <td>121.158861</td>\n",
       "    </tr>\n",
       "    <tr>\n",
       "      <th>delta</th>\n",
       "      <td>1</td>\n",
       "      <td>6</td>\n",
       "      <td>0.000000</td>\n",
       "      <td>2.767588</td>\n",
       "    </tr>\n",
       "    <tr>\n",
       "      <th>mi</th>\n",
       "      <td>1</td>\n",
       "      <td>1</td>\n",
       "      <td>5.273000</td>\n",
       "      <td>0.922529</td>\n",
       "    </tr>\n",
       "  </tbody>\n",
       "</table>\n",
       "</div>"
      ],
      "text/plain": [
       "         First click  Last click      Shapley       Markov\n",
       "eta             2148        3259  2658.221043  1807.850113\n",
       "iota            3050        1670     0.000000  1715.904683\n",
       "alpha            365        1729     0.000000  1272.783062\n",
       "beta            2610         761   682.070267  1512.640706\n",
       "theta            842         657     0.000000   957.278007\n",
       "lambda           441         756     0.000000   701.122344\n",
       "kappa             79         252    15.788750   191.271096\n",
       "zeta              31          99     0.000000   269.378585\n",
       "epsilon           75         523    15.784000   389.922426\n",
       "gamma            131          61    28.248667   121.158861\n",
       "delta              1           6     0.000000     2.767588\n",
       "mi                 1           1     5.273000     0.922529"
      ]
     },
     "execution_count": 77,
     "metadata": {},
     "output_type": "execute_result"
    }
   ],
   "source": [
    "summary"
   ]
  },
  {
   "cell_type": "code",
   "execution_count": 78,
   "id": "bddb7ec3",
   "metadata": {},
   "outputs": [
    {
     "data": {
      "text/plain": [
       "array(['eta', 'iota', 'alpha', 'beta', 'theta', 'lambda', 'kappa', 'zeta',\n",
       "       'epsilon', 'gamma', 'delta', 'mi'], dtype=object)"
      ]
     },
     "execution_count": 78,
     "metadata": {},
     "output_type": "execute_result"
    }
   ],
   "source": [
    "p = summary.index.values\n",
    "p"
   ]
  },
  {
   "cell_type": "code",
   "execution_count": 79,
   "id": "7efc3370",
   "metadata": {},
   "outputs": [
    {
     "data": {
      "text/html": [
       "<div>\n",
       "<style scoped>\n",
       "    .dataframe tbody tr th:only-of-type {\n",
       "        vertical-align: middle;\n",
       "    }\n",
       "\n",
       "    .dataframe tbody tr th {\n",
       "        vertical-align: top;\n",
       "    }\n",
       "\n",
       "    .dataframe thead th {\n",
       "        text-align: right;\n",
       "    }\n",
       "</style>\n",
       "<table border=\"1\" class=\"dataframe\">\n",
       "  <thead>\n",
       "    <tr style=\"text-align: right;\">\n",
       "      <th></th>\n",
       "      <th>Channel</th>\n",
       "      <th>First click</th>\n",
       "      <th>Last click</th>\n",
       "      <th>Shapley</th>\n",
       "      <th>Markov</th>\n",
       "    </tr>\n",
       "  </thead>\n",
       "  <tbody>\n",
       "    <tr>\n",
       "      <th>eta</th>\n",
       "      <td>eta</td>\n",
       "      <td>2148</td>\n",
       "      <td>3259</td>\n",
       "      <td>2658.221043</td>\n",
       "      <td>1807.850113</td>\n",
       "    </tr>\n",
       "    <tr>\n",
       "      <th>iota</th>\n",
       "      <td>iota</td>\n",
       "      <td>3050</td>\n",
       "      <td>1670</td>\n",
       "      <td>0.000000</td>\n",
       "      <td>1715.904683</td>\n",
       "    </tr>\n",
       "    <tr>\n",
       "      <th>alpha</th>\n",
       "      <td>alpha</td>\n",
       "      <td>365</td>\n",
       "      <td>1729</td>\n",
       "      <td>0.000000</td>\n",
       "      <td>1272.783062</td>\n",
       "    </tr>\n",
       "    <tr>\n",
       "      <th>beta</th>\n",
       "      <td>beta</td>\n",
       "      <td>2610</td>\n",
       "      <td>761</td>\n",
       "      <td>682.070267</td>\n",
       "      <td>1512.640706</td>\n",
       "    </tr>\n",
       "    <tr>\n",
       "      <th>theta</th>\n",
       "      <td>theta</td>\n",
       "      <td>842</td>\n",
       "      <td>657</td>\n",
       "      <td>0.000000</td>\n",
       "      <td>957.278007</td>\n",
       "    </tr>\n",
       "    <tr>\n",
       "      <th>lambda</th>\n",
       "      <td>lambda</td>\n",
       "      <td>441</td>\n",
       "      <td>756</td>\n",
       "      <td>0.000000</td>\n",
       "      <td>701.122344</td>\n",
       "    </tr>\n",
       "    <tr>\n",
       "      <th>kappa</th>\n",
       "      <td>kappa</td>\n",
       "      <td>79</td>\n",
       "      <td>252</td>\n",
       "      <td>15.788750</td>\n",
       "      <td>191.271096</td>\n",
       "    </tr>\n",
       "    <tr>\n",
       "      <th>zeta</th>\n",
       "      <td>zeta</td>\n",
       "      <td>31</td>\n",
       "      <td>99</td>\n",
       "      <td>0.000000</td>\n",
       "      <td>269.378585</td>\n",
       "    </tr>\n",
       "    <tr>\n",
       "      <th>epsilon</th>\n",
       "      <td>epsilon</td>\n",
       "      <td>75</td>\n",
       "      <td>523</td>\n",
       "      <td>15.784000</td>\n",
       "      <td>389.922426</td>\n",
       "    </tr>\n",
       "    <tr>\n",
       "      <th>gamma</th>\n",
       "      <td>gamma</td>\n",
       "      <td>131</td>\n",
       "      <td>61</td>\n",
       "      <td>28.248667</td>\n",
       "      <td>121.158861</td>\n",
       "    </tr>\n",
       "    <tr>\n",
       "      <th>delta</th>\n",
       "      <td>delta</td>\n",
       "      <td>1</td>\n",
       "      <td>6</td>\n",
       "      <td>0.000000</td>\n",
       "      <td>2.767588</td>\n",
       "    </tr>\n",
       "    <tr>\n",
       "      <th>mi</th>\n",
       "      <td>mi</td>\n",
       "      <td>1</td>\n",
       "      <td>1</td>\n",
       "      <td>5.273000</td>\n",
       "      <td>0.922529</td>\n",
       "    </tr>\n",
       "  </tbody>\n",
       "</table>\n",
       "</div>"
      ],
      "text/plain": [
       "         Channel  First click  Last click      Shapley       Markov\n",
       "eta          eta         2148        3259  2658.221043  1807.850113\n",
       "iota        iota         3050        1670     0.000000  1715.904683\n",
       "alpha      alpha          365        1729     0.000000  1272.783062\n",
       "beta        beta         2610         761   682.070267  1512.640706\n",
       "theta      theta          842         657     0.000000   957.278007\n",
       "lambda    lambda          441         756     0.000000   701.122344\n",
       "kappa      kappa           79         252    15.788750   191.271096\n",
       "zeta        zeta           31          99     0.000000   269.378585\n",
       "epsilon  epsilon           75         523    15.784000   389.922426\n",
       "gamma      gamma          131          61    28.248667   121.158861\n",
       "delta      delta            1           6     0.000000     2.767588\n",
       "mi            mi            1           1     5.273000     0.922529"
      ]
     },
     "execution_count": 79,
     "metadata": {},
     "output_type": "execute_result"
    }
   ],
   "source": [
    "summary.insert( 0, column=\"Channel\",value = p)\n",
    "summary"
   ]
  },
  {
   "cell_type": "code",
   "execution_count": 80,
   "id": "7a4e4659",
   "metadata": {},
   "outputs": [
    {
     "data": {
      "text/html": [
       "<div>\n",
       "<style scoped>\n",
       "    .dataframe tbody tr th:only-of-type {\n",
       "        vertical-align: middle;\n",
       "    }\n",
       "\n",
       "    .dataframe tbody tr th {\n",
       "        vertical-align: top;\n",
       "    }\n",
       "\n",
       "    .dataframe thead th {\n",
       "        text-align: right;\n",
       "    }\n",
       "</style>\n",
       "<table border=\"1\" class=\"dataframe\">\n",
       "  <thead>\n",
       "    <tr style=\"text-align: right;\">\n",
       "      <th></th>\n",
       "      <th>Channel</th>\n",
       "      <th>First click</th>\n",
       "      <th>Last click</th>\n",
       "      <th>Shapley</th>\n",
       "      <th>Markov</th>\n",
       "    </tr>\n",
       "  </thead>\n",
       "  <tbody>\n",
       "    <tr>\n",
       "      <th>0</th>\n",
       "      <td>eta</td>\n",
       "      <td>2148</td>\n",
       "      <td>3259</td>\n",
       "      <td>2658.221043</td>\n",
       "      <td>1807.850113</td>\n",
       "    </tr>\n",
       "    <tr>\n",
       "      <th>1</th>\n",
       "      <td>iota</td>\n",
       "      <td>3050</td>\n",
       "      <td>1670</td>\n",
       "      <td>0.000000</td>\n",
       "      <td>1715.904683</td>\n",
       "    </tr>\n",
       "    <tr>\n",
       "      <th>2</th>\n",
       "      <td>alpha</td>\n",
       "      <td>365</td>\n",
       "      <td>1729</td>\n",
       "      <td>0.000000</td>\n",
       "      <td>1272.783062</td>\n",
       "    </tr>\n",
       "    <tr>\n",
       "      <th>3</th>\n",
       "      <td>beta</td>\n",
       "      <td>2610</td>\n",
       "      <td>761</td>\n",
       "      <td>682.070267</td>\n",
       "      <td>1512.640706</td>\n",
       "    </tr>\n",
       "    <tr>\n",
       "      <th>4</th>\n",
       "      <td>theta</td>\n",
       "      <td>842</td>\n",
       "      <td>657</td>\n",
       "      <td>0.000000</td>\n",
       "      <td>957.278007</td>\n",
       "    </tr>\n",
       "    <tr>\n",
       "      <th>5</th>\n",
       "      <td>lambda</td>\n",
       "      <td>441</td>\n",
       "      <td>756</td>\n",
       "      <td>0.000000</td>\n",
       "      <td>701.122344</td>\n",
       "    </tr>\n",
       "    <tr>\n",
       "      <th>6</th>\n",
       "      <td>kappa</td>\n",
       "      <td>79</td>\n",
       "      <td>252</td>\n",
       "      <td>15.788750</td>\n",
       "      <td>191.271096</td>\n",
       "    </tr>\n",
       "    <tr>\n",
       "      <th>7</th>\n",
       "      <td>zeta</td>\n",
       "      <td>31</td>\n",
       "      <td>99</td>\n",
       "      <td>0.000000</td>\n",
       "      <td>269.378585</td>\n",
       "    </tr>\n",
       "    <tr>\n",
       "      <th>8</th>\n",
       "      <td>epsilon</td>\n",
       "      <td>75</td>\n",
       "      <td>523</td>\n",
       "      <td>15.784000</td>\n",
       "      <td>389.922426</td>\n",
       "    </tr>\n",
       "    <tr>\n",
       "      <th>9</th>\n",
       "      <td>gamma</td>\n",
       "      <td>131</td>\n",
       "      <td>61</td>\n",
       "      <td>28.248667</td>\n",
       "      <td>121.158861</td>\n",
       "    </tr>\n",
       "    <tr>\n",
       "      <th>10</th>\n",
       "      <td>delta</td>\n",
       "      <td>1</td>\n",
       "      <td>6</td>\n",
       "      <td>0.000000</td>\n",
       "      <td>2.767588</td>\n",
       "    </tr>\n",
       "    <tr>\n",
       "      <th>11</th>\n",
       "      <td>mi</td>\n",
       "      <td>1</td>\n",
       "      <td>1</td>\n",
       "      <td>5.273000</td>\n",
       "      <td>0.922529</td>\n",
       "    </tr>\n",
       "  </tbody>\n",
       "</table>\n",
       "</div>"
      ],
      "text/plain": [
       "    Channel  First click  Last click      Shapley       Markov\n",
       "0       eta         2148        3259  2658.221043  1807.850113\n",
       "1      iota         3050        1670     0.000000  1715.904683\n",
       "2     alpha          365        1729     0.000000  1272.783062\n",
       "3      beta         2610         761   682.070267  1512.640706\n",
       "4     theta          842         657     0.000000   957.278007\n",
       "5    lambda          441         756     0.000000   701.122344\n",
       "6     kappa           79         252    15.788750   191.271096\n",
       "7      zeta           31          99     0.000000   269.378585\n",
       "8   epsilon           75         523    15.784000   389.922426\n",
       "9     gamma          131          61    28.248667   121.158861\n",
       "10    delta            1           6     0.000000     2.767588\n",
       "11       mi            1           1     5.273000     0.922529"
      ]
     },
     "execution_count": 80,
     "metadata": {},
     "output_type": "execute_result"
    }
   ],
   "source": [
    "summary.reset_index(drop=True, inplace=True)\n",
    "summary"
   ]
  },
  {
   "cell_type": "code",
   "execution_count": 81,
   "id": "985a54eb",
   "metadata": {},
   "outputs": [],
   "source": [
    "summary.to_csv(\"MTA\")"
   ]
  },
  {
   "cell_type": "code",
   "execution_count": null,
   "id": "9042b614",
   "metadata": {},
   "outputs": [],
   "source": []
  }
 ],
 "metadata": {
  "kernelspec": {
   "display_name": "Python 3",
   "language": "python",
   "name": "python3"
  },
  "language_info": {
   "codemirror_mode": {
    "name": "ipython",
    "version": 3
   },
   "file_extension": ".py",
   "mimetype": "text/x-python",
   "name": "python",
   "nbconvert_exporter": "python",
   "pygments_lexer": "ipython3",
   "version": "3.8.8"
  }
 },
 "nbformat": 4,
 "nbformat_minor": 5
}

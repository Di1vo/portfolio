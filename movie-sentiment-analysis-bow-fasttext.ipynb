{
 "cells": [
  {
   "cell_type": "code",
   "execution_count": 1,
   "metadata": {
    "execution": {
     "iopub.execute_input": "2022-02-24T06:47:01.070857Z",
     "iopub.status.busy": "2022-02-24T06:47:01.070527Z",
     "iopub.status.idle": "2022-02-24T06:47:22.950961Z",
     "shell.execute_reply": "2022-02-24T06:47:22.950158Z",
     "shell.execute_reply.started": "2022-02-24T06:47:01.070762Z"
    }
   },
   "outputs": [
    {
     "name": "stdout",
     "output_type": "stream",
     "text": [
      "Collecting text-preprocessing\n",
      "  Downloading text_preprocessing-0.1.1-py2.py3-none-any.whl (9.6 kB)\n",
      "Collecting names-dataset==2.1\n",
      "  Downloading names_dataset-2.1.0-py3-none-any.whl (62.6 MB)\n",
      "\u001b[K     |████████████████████████████████| 62.6 MB 5.7 MB/s eta 0:00:014\n",
      "\u001b[?25hCollecting contractions\n",
      "  Downloading contractions-0.1.72-py2.py3-none-any.whl (8.3 kB)\n",
      "Collecting pyspellchecker\n",
      "  Downloading pyspellchecker-0.7.0-py3-none-any.whl (2.5 MB)\n",
      "\u001b[K     |████████████████████████████████| 2.5 MB 8.9 MB/s eta 0:00:01\n",
      "\u001b[?25hRequirement already satisfied: nltk in /Users/denis/opt/anaconda3/lib/python3.8/site-packages (from text-preprocessing) (3.6.1)\n",
      "Collecting unittest-xml-reporting\n",
      "  Downloading unittest_xml_reporting-3.2.0-py2.py3-none-any.whl (20 kB)\n",
      "Collecting textsearch>=0.0.21\n",
      "  Downloading textsearch-0.0.24-py2.py3-none-any.whl (7.6 kB)\n",
      "Collecting pyahocorasick\n",
      "  Downloading pyahocorasick-1.4.4-cp38-cp38-macosx_10_9_x86_64.whl (32 kB)\n",
      "Collecting anyascii\n",
      "  Downloading anyascii-0.3.1-py3-none-any.whl (287 kB)\n",
      "\u001b[K     |████████████████████████████████| 287 kB 7.3 MB/s eta 0:00:01\n",
      "\u001b[?25hRequirement already satisfied: tqdm in /Users/denis/opt/anaconda3/lib/python3.8/site-packages (from nltk->text-preprocessing) (4.59.0)\n",
      "Requirement already satisfied: regex in /Users/denis/opt/anaconda3/lib/python3.8/site-packages (from nltk->text-preprocessing) (2017.4.5)\n",
      "Requirement already satisfied: joblib in /Users/denis/opt/anaconda3/lib/python3.8/site-packages (from nltk->text-preprocessing) (1.0.1)\n",
      "Requirement already satisfied: click in /Users/denis/opt/anaconda3/lib/python3.8/site-packages (from nltk->text-preprocessing) (7.1.2)\n",
      "Requirement already satisfied: lxml in /Users/denis/opt/anaconda3/lib/python3.8/site-packages (from unittest-xml-reporting->text-preprocessing) (4.6.3)\n",
      "Installing collected packages: pyahocorasick, anyascii, textsearch, unittest-xml-reporting, pyspellchecker, names-dataset, contractions, text-preprocessing\n",
      "Successfully installed anyascii-0.3.1 contractions-0.1.72 names-dataset-2.1.0 pyahocorasick-1.4.4 pyspellchecker-0.7.0 text-preprocessing-0.1.1 textsearch-0.0.24 unittest-xml-reporting-3.2.0\n"
     ]
    }
   ],
   "source": [
    "!pip install text-preprocessing"
   ]
  },
  {
   "cell_type": "code",
   "execution_count": 2,
   "metadata": {
    "execution": {
     "iopub.execute_input": "2022-02-24T06:47:22.954453Z",
     "iopub.status.busy": "2022-02-24T06:47:22.954186Z",
     "iopub.status.idle": "2022-02-24T06:47:30.527849Z",
     "shell.execute_reply": "2022-02-24T06:47:30.527048Z",
     "shell.execute_reply.started": "2022-02-24T06:47:22.954425Z"
    }
   },
   "outputs": [
    {
     "name": "stdout",
     "output_type": "stream",
     "text": [
      "Requirement already satisfied: fasttext in /Users/denis/opt/anaconda3/lib/python3.8/site-packages (0.9.2)\r\n",
      "Requirement already satisfied: pybind11>=2.2 in /Users/denis/opt/anaconda3/lib/python3.8/site-packages (from fasttext) (2.9.2)\r\n",
      "Requirement already satisfied: setuptools>=0.7.0 in /Users/denis/opt/anaconda3/lib/python3.8/site-packages (from fasttext) (52.0.0.post20210125)\r\n",
      "Requirement already satisfied: numpy in /Users/denis/opt/anaconda3/lib/python3.8/site-packages (from fasttext) (1.20.1)\r\n"
     ]
    }
   ],
   "source": [
    "!pip install fasttext"
   ]
  },
  {
   "cell_type": "code",
   "execution_count": 3,
   "metadata": {
    "execution": {
     "iopub.execute_input": "2022-02-24T06:47:30.532929Z",
     "iopub.status.busy": "2022-02-24T06:47:30.532674Z",
     "iopub.status.idle": "2022-02-24T06:47:37.683388Z",
     "shell.execute_reply": "2022-02-24T06:47:37.682461Z",
     "shell.execute_reply.started": "2022-02-24T06:47:30.532899Z"
    }
   },
   "outputs": [
    {
     "name": "stdout",
     "output_type": "stream",
     "text": [
      "Requirement already satisfied: gensim in /Users/denis/opt/anaconda3/lib/python3.8/site-packages (3.4.0)\n",
      "Requirement already satisfied: six>=1.5.0 in /Users/denis/opt/anaconda3/lib/python3.8/site-packages (from gensim) (1.15.0)\n",
      "Requirement already satisfied: numpy>=1.11.3 in /Users/denis/opt/anaconda3/lib/python3.8/site-packages (from gensim) (1.20.1)\n",
      "Requirement already satisfied: smart-open>=1.2.1 in /Users/denis/opt/anaconda3/lib/python3.8/site-packages (from gensim) (5.2.1)\n",
      "Requirement already satisfied: scipy>=0.18.1 in /Users/denis/opt/anaconda3/lib/python3.8/site-packages (from gensim) (1.6.2)\n"
     ]
    }
   ],
   "source": [
    "!pip install gensim"
   ]
  },
  {
   "cell_type": "code",
   "execution_count": 4,
   "metadata": {
    "_cell_guid": "b1076dfc-b9ad-4769-8c92-a6c4dae69d19",
    "_uuid": "8f2839f25d086af736a60e9eeb907d3b93b6e0e5",
    "execution": {
     "iopub.execute_input": "2022-02-24T06:47:37.687619Z",
     "iopub.status.busy": "2022-02-24T06:47:37.687403Z",
     "iopub.status.idle": "2022-02-24T06:47:49.413422Z",
     "shell.execute_reply": "2022-02-24T06:47:49.412579Z",
     "shell.execute_reply.started": "2022-02-24T06:47:37.687594Z"
    }
   },
   "outputs": [
    {
     "name": "stderr",
     "output_type": "stream",
     "text": [
      "[nltk_data] Downloading package omw-1.4 to /Users/denis/nltk_data...\n"
     ]
    }
   ],
   "source": [
    "import os\n",
    "import spacy\n",
    "import numpy as np \n",
    "import pandas as pd \n",
    "\n",
    "from text_preprocessing import preprocess_text\n",
    "from text_preprocessing import to_lower, expand_contraction, remove_number,remove_special_character,normalize_unicode,remove_punctuation,remove_stopword,check_spelling\n",
    "from nltk.tokenize import word_tokenize\n",
    "\n",
    "from sklearn.model_selection import train_test_split\n",
    "from sklearn.linear_model import LogisticRegression\n",
    "from sklearn.svm import LinearSVC\n",
    "from sklearn.feature_extraction.text import CountVectorizer\n",
    "from sklearn.naive_bayes import MultinomialNB\n",
    "from sklearn.metrics import confusion_matrix,classification_report,accuracy_score,roc_auc_score\n",
    "\n",
    "import seaborn as sns\n",
    "import matplotlib.pyplot as plt\n",
    "\n",
    "import fasttext\n",
    "from gensim.models import Word2Vec\n",
    "from tqdm.notebook import tqdm\n",
    "\n",
    "\n",
    "\n",
    "tqdm.pandas()\n",
    "load_model = spacy.load('en_core_web_sm', disable = ['parser','ner'])"
   ]
  },
  {
   "cell_type": "code",
   "execution_count": 6,
   "metadata": {
    "execution": {
     "iopub.execute_input": "2022-02-24T06:47:49.415197Z",
     "iopub.status.busy": "2022-02-24T06:47:49.414918Z",
     "iopub.status.idle": "2022-02-24T06:47:50.662872Z",
     "shell.execute_reply": "2022-02-24T06:47:50.661898Z",
     "shell.execute_reply.started": "2022-02-24T06:47:49.415161Z"
    }
   },
   "outputs": [
    {
     "data": {
      "text/html": [
       "<div>\n",
       "<style scoped>\n",
       "    .dataframe tbody tr th:only-of-type {\n",
       "        vertical-align: middle;\n",
       "    }\n",
       "\n",
       "    .dataframe tbody tr th {\n",
       "        vertical-align: top;\n",
       "    }\n",
       "\n",
       "    .dataframe thead th {\n",
       "        text-align: right;\n",
       "    }\n",
       "</style>\n",
       "<table border=\"1\" class=\"dataframe\">\n",
       "  <thead>\n",
       "    <tr style=\"text-align: right;\">\n",
       "      <th></th>\n",
       "      <th>text</th>\n",
       "      <th>label</th>\n",
       "    </tr>\n",
       "  </thead>\n",
       "  <tbody>\n",
       "    <tr>\n",
       "      <th>0</th>\n",
       "      <td>I grew up (b. 1965) watching and loving the Th...</td>\n",
       "      <td>0</td>\n",
       "    </tr>\n",
       "    <tr>\n",
       "      <th>1</th>\n",
       "      <td>When I put this movie in my DVD player, and sa...</td>\n",
       "      <td>0</td>\n",
       "    </tr>\n",
       "    <tr>\n",
       "      <th>2</th>\n",
       "      <td>Why do people who do not know what a particula...</td>\n",
       "      <td>0</td>\n",
       "    </tr>\n",
       "    <tr>\n",
       "      <th>3</th>\n",
       "      <td>Even though I have great interest in Biblical ...</td>\n",
       "      <td>0</td>\n",
       "    </tr>\n",
       "    <tr>\n",
       "      <th>4</th>\n",
       "      <td>Im a die hard Dads Army fan and nothing will e...</td>\n",
       "      <td>1</td>\n",
       "    </tr>\n",
       "  </tbody>\n",
       "</table>\n",
       "</div>"
      ],
      "text/plain": [
       "                                                text  label\n",
       "0  I grew up (b. 1965) watching and loving the Th...      0\n",
       "1  When I put this movie in my DVD player, and sa...      0\n",
       "2  Why do people who do not know what a particula...      0\n",
       "3  Even though I have great interest in Biblical ...      0\n",
       "4  Im a die hard Dads Army fan and nothing will e...      1"
      ]
     },
     "execution_count": 6,
     "metadata": {},
     "output_type": "execute_result"
    }
   ],
   "source": [
    "data = pd.read_csv('/Users/denis/Downloads/movie.csv')\n",
    "data.head()"
   ]
  },
  {
   "cell_type": "code",
   "execution_count": 7,
   "metadata": {
    "execution": {
     "iopub.execute_input": "2022-02-24T06:47:50.664392Z",
     "iopub.status.busy": "2022-02-24T06:47:50.664114Z",
     "iopub.status.idle": "2022-02-24T06:47:50.678361Z",
     "shell.execute_reply": "2022-02-24T06:47:50.676913Z",
     "shell.execute_reply.started": "2022-02-24T06:47:50.664356Z"
    }
   },
   "outputs": [
    {
     "data": {
      "text/plain": [
       "0    20019\n",
       "1    19981\n",
       "Name: label, dtype: int64"
      ]
     },
     "execution_count": 7,
     "metadata": {},
     "output_type": "execute_result"
    }
   ],
   "source": [
    "data.label.value_counts()"
   ]
  },
  {
   "cell_type": "code",
   "execution_count": 8,
   "metadata": {
    "execution": {
     "iopub.execute_input": "2022-02-24T06:47:50.680252Z",
     "iopub.status.busy": "2022-02-24T06:47:50.679695Z",
     "iopub.status.idle": "2022-02-24T06:47:50.685936Z",
     "shell.execute_reply": "2022-02-24T06:47:50.685186Z",
     "shell.execute_reply.started": "2022-02-24T06:47:50.680191Z"
    }
   },
   "outputs": [],
   "source": [
    "def clean_data(text_pro):\n",
    "    text_pro = text_pro.replace('br','')\n",
    "    doc = load_model(text_pro)\n",
    "    text = \" \".join([token.lemma_ for token in doc])\n",
    "    preprocess_functions = [to_lower,remove_special_character,remove_number,normalize_unicode,remove_punctuation, expand_contraction,remove_stopword]\n",
    "    preprocessed_text = preprocess_text(text_pro, preprocess_functions)\n",
    "    return preprocessed_text"
   ]
  },
  {
   "cell_type": "code",
   "execution_count": 9,
   "metadata": {
    "execution": {
     "iopub.execute_input": "2022-02-24T06:48:28.981141Z",
     "iopub.status.busy": "2022-02-24T06:48:28.980860Z",
     "iopub.status.idle": "2022-02-24T07:03:28.011698Z",
     "shell.execute_reply": "2022-02-24T07:03:28.010982Z",
     "shell.execute_reply.started": "2022-02-24T06:48:28.981110Z"
    }
   },
   "outputs": [
    {
     "data": {
      "application/vnd.jupyter.widget-view+json": {
       "model_id": "990c750e7b9d4083bdca73e24df24f2e",
       "version_major": 2,
       "version_minor": 0
      },
      "text/plain": [
       "  0%|          | 0/40000 [00:00<?, ?it/s]"
      ]
     },
     "metadata": {},
     "output_type": "display_data"
    }
   ],
   "source": [
    "df = data.copy()\n",
    "\n",
    "df['text'] = df['text'].progress_apply(clean_data)"
   ]
  },
  {
   "cell_type": "code",
   "execution_count": 10,
   "metadata": {
    "execution": {
     "iopub.execute_input": "2022-02-24T07:03:28.013910Z",
     "iopub.status.busy": "2022-02-24T07:03:28.013222Z",
     "iopub.status.idle": "2022-02-24T07:03:28.025044Z",
     "shell.execute_reply": "2022-02-24T07:03:28.024321Z",
     "shell.execute_reply.started": "2022-02-24T07:03:28.013869Z"
    }
   },
   "outputs": [],
   "source": [
    "X = df.text\n",
    "y = df.label\n",
    "\n",
    "X_train,X_test,y_train,y_test = train_test_split(X,y,test_size=0.2,random_state=0)"
   ]
  },
  {
   "cell_type": "markdown",
   "metadata": {},
   "source": [
    "# Bag of Words"
   ]
  },
  {
   "cell_type": "code",
   "execution_count": 11,
   "metadata": {
    "execution": {
     "iopub.execute_input": "2022-02-24T07:03:28.028065Z",
     "iopub.status.busy": "2022-02-24T07:03:28.027867Z",
     "iopub.status.idle": "2022-02-24T07:03:33.076176Z",
     "shell.execute_reply": "2022-02-24T07:03:33.075446Z",
     "shell.execute_reply.started": "2022-02-24T07:03:28.028040Z"
    }
   },
   "outputs": [],
   "source": [
    "vect = CountVectorizer(max_features = 10000)\n",
    "\n",
    "X_train_dm = vect.fit_transform(X_train)\n",
    "X_test_dm = vect.transform(X_test)"
   ]
  },
  {
   "cell_type": "code",
   "execution_count": 12,
   "metadata": {
    "execution": {
     "iopub.execute_input": "2022-02-24T07:03:33.078288Z",
     "iopub.status.busy": "2022-02-24T07:03:33.078024Z",
     "iopub.status.idle": "2022-02-24T07:03:33.084606Z",
     "shell.execute_reply": "2022-02-24T07:03:33.083757Z",
     "shell.execute_reply.started": "2022-02-24T07:03:33.078255Z"
    }
   },
   "outputs": [
    {
     "data": {
      "text/plain": [
       "(32000, 10000)"
      ]
     },
     "execution_count": 12,
     "metadata": {},
     "output_type": "execute_result"
    }
   ],
   "source": [
    "X_train_dm.shape"
   ]
  },
  {
   "cell_type": "code",
   "execution_count": 13,
   "metadata": {
    "execution": {
     "iopub.execute_input": "2022-02-24T07:03:33.086314Z",
     "iopub.status.busy": "2022-02-24T07:03:33.085984Z",
     "iopub.status.idle": "2022-02-24T07:03:33.116276Z",
     "shell.execute_reply": "2022-02-24T07:03:33.115630Z",
     "shell.execute_reply.started": "2022-02-24T07:03:33.086277Z"
    }
   },
   "outputs": [
    {
     "data": {
      "text/plain": [
       "MultinomialNB()"
      ]
     },
     "execution_count": 13,
     "metadata": {},
     "output_type": "execute_result"
    }
   ],
   "source": [
    "classifier = MultinomialNB()\n",
    "classifier.fit(X_train_dm,y_train)"
   ]
  },
  {
   "cell_type": "code",
   "execution_count": 14,
   "metadata": {
    "execution": {
     "iopub.execute_input": "2022-02-24T07:03:33.118013Z",
     "iopub.status.busy": "2022-02-24T07:03:33.117555Z",
     "iopub.status.idle": "2022-02-24T07:03:33.127976Z",
     "shell.execute_reply": "2022-02-24T07:03:33.127111Z",
     "shell.execute_reply.started": "2022-02-24T07:03:33.117967Z"
    }
   },
   "outputs": [],
   "source": [
    "predictions = classifier.predict(X_test_dm)"
   ]
  },
  {
   "cell_type": "code",
   "execution_count": 15,
   "metadata": {
    "execution": {
     "iopub.execute_input": "2022-02-24T07:03:33.129584Z",
     "iopub.status.busy": "2022-02-24T07:03:33.129176Z",
     "iopub.status.idle": "2022-02-24T07:03:33.138544Z",
     "shell.execute_reply": "2022-02-24T07:03:33.137628Z",
     "shell.execute_reply.started": "2022-02-24T07:03:33.129543Z"
    }
   },
   "outputs": [],
   "source": [
    "def evaluate_performance(y_true,predictions):\n",
    "    #accuracy_score\n",
    "    print(f\"Accuracy : {accuracy_score(y_true,predictions,normalize=True) * 100} \\n\")\n",
    "    \n",
    "    #confusion matrix\n",
    "    cm = confusion_matrix(y_true,predictions)\n",
    "    ax = sns.heatmap(cm/np.sum(cm),fmt='.2%',annot=True,cmap='Blues')\n",
    "    ax.set_title('Confusion Matrix')\n",
    "    ax.set_xlabel('\\nPredicted Values')\n",
    "    ax.set_ylabel('Actual Values ')\n",
    "\n",
    "    ax.xaxis.set_ticklabels(['Negative','Positive'])\n",
    "    ax.yaxis.set_ticklabels(['Negative','Positive'])\n",
    "    plt.show();\n",
    "    \n",
    "    print('\\n')\n",
    "    #classification_report\n",
    "    print(f\"Classification report : \\n{classification_report(y_true,predictions,target_names=['Negative','Positive'])}\")\n",
    "    \n",
    "    "
   ]
  },
  {
   "cell_type": "code",
   "execution_count": 16,
   "metadata": {
    "execution": {
     "iopub.execute_input": "2022-02-24T07:03:33.140705Z",
     "iopub.status.busy": "2022-02-24T07:03:33.140241Z",
     "iopub.status.idle": "2022-02-24T07:03:33.410808Z",
     "shell.execute_reply": "2022-02-24T07:03:33.410034Z",
     "shell.execute_reply.started": "2022-02-24T07:03:33.140660Z"
    }
   },
   "outputs": [
    {
     "name": "stdout",
     "output_type": "stream",
     "text": [
      "Accuracy : 84.98750000000001 \n",
      "\n"
     ]
    },
    {
     "data": {
      "image/png": "[encoded data removed]",
      "text/plain": [
       "<Figure size 432x288 with 2 Axes>"
      ]
     },
     "metadata": {
      "needs_background": "light"
     },
     "output_type": "display_data"
    },
    {
     "name": "stdout",
     "output_type": "stream",
     "text": [
      "\n",
      "\n",
      "Classification report : \n",
      "              precision    recall  f1-score   support\n",
      "\n",
      "    Negative       0.84      0.86      0.85      3941\n",
      "    Positive       0.86      0.84      0.85      4059\n",
      "\n",
      "    accuracy                           0.85      8000\n",
      "   macro avg       0.85      0.85      0.85      8000\n",
      "weighted avg       0.85      0.85      0.85      8000\n",
      "\n"
     ]
    }
   ],
   "source": [
    "evaluate_performance(y_test,predictions)"
   ]
  },
  {
   "cell_type": "code",
   "execution_count": 17,
   "metadata": {
    "execution": {
     "iopub.execute_input": "2022-02-24T07:03:33.412176Z",
     "iopub.status.busy": "2022-02-24T07:03:33.411921Z",
     "iopub.status.idle": "2022-02-24T07:03:33.417823Z",
     "shell.execute_reply": "2022-02-24T07:03:33.417032Z",
     "shell.execute_reply.started": "2022-02-24T07:03:33.412140Z"
    }
   },
   "outputs": [
    {
     "data": {
      "text/plain": [
       "(32000,)"
      ]
     },
     "execution_count": 17,
     "metadata": {},
     "output_type": "execute_result"
    }
   ],
   "source": [
    "X_train.shape"
   ]
  },
  {
   "cell_type": "code",
   "execution_count": 18,
   "metadata": {
    "execution": {
     "iopub.execute_input": "2022-02-24T07:03:33.422315Z",
     "iopub.status.busy": "2022-02-24T07:03:33.421741Z",
     "iopub.status.idle": "2022-02-24T07:03:33.429020Z",
     "shell.execute_reply": "2022-02-24T07:03:33.428251Z",
     "shell.execute_reply.started": "2022-02-24T07:03:33.422278Z"
    }
   },
   "outputs": [
    {
     "data": {
      "text/plain": [
       "0"
      ]
     },
     "execution_count": 18,
     "metadata": {},
     "output_type": "execute_result"
    }
   ],
   "source": [
    "statement = \"The movie was totally boring. The story was dull and the editor did a horrible job at editing this movie. Should have left the jumps and scares instead of cutting it off when the time came.\"\n",
    "st_dm = vect.transform([statement])\n",
    "classifier.predict(st_dm)[0]"
   ]
  },
  {
   "cell_type": "code",
   "execution_count": 19,
   "metadata": {
    "execution": {
     "iopub.execute_input": "2022-02-24T07:03:33.431041Z",
     "iopub.status.busy": "2022-02-24T07:03:33.430546Z",
     "iopub.status.idle": "2022-02-24T07:03:33.439783Z",
     "shell.execute_reply": "2022-02-24T07:03:33.438689Z",
     "shell.execute_reply.started": "2022-02-24T07:03:33.431003Z"
    }
   },
   "outputs": [
    {
     "data": {
      "text/plain": [
       "0"
      ]
     },
     "execution_count": 19,
     "metadata": {},
     "output_type": "execute_result"
    }
   ],
   "source": [
    "statement = \"I could watch an entire 2.5 hour long movie about just the 3 spideys fighting villains. but the rest of the movie was good too. Something in my heart was made right seeing Andrew and Tobey in their suits again. love this movie.\"\n",
    "st_dm = vect.transform([statement])\n",
    "classifier.predict(st_dm)[0]"
   ]
  },
  {
   "cell_type": "code",
   "execution_count": 20,
   "metadata": {
    "execution": {
     "iopub.execute_input": "2022-02-24T07:03:33.442208Z",
     "iopub.status.busy": "2022-02-24T07:03:33.441336Z",
     "iopub.status.idle": "2022-02-24T07:03:33.449255Z",
     "shell.execute_reply": "2022-02-24T07:03:33.448383Z",
     "shell.execute_reply.started": "2022-02-24T07:03:33.442120Z"
    }
   },
   "outputs": [
    {
     "data": {
      "text/plain": [
       "1"
      ]
     },
     "execution_count": 20,
     "metadata": {},
     "output_type": "execute_result"
    }
   ],
   "source": [
    "statement = \"I loved the way all the Spider-Man movies were pulled into 1 story. I also loved how Spider-Man saved all his villians\"\n",
    "st_dm = vect.transform([statement])\n",
    "classifier.predict(st_dm)[0]"
   ]
  },
  {
   "cell_type": "code",
   "execution_count": 21,
   "metadata": {
    "execution": {
     "iopub.execute_input": "2022-02-24T07:03:33.451299Z",
     "iopub.status.busy": "2022-02-24T07:03:33.450570Z",
     "iopub.status.idle": "2022-02-24T07:03:38.372441Z",
     "shell.execute_reply": "2022-02-24T07:03:38.371605Z",
     "shell.execute_reply.started": "2022-02-24T07:03:33.451261Z"
    }
   },
   "outputs": [
    {
     "name": "stdout",
     "output_type": "stream",
     "text": [
      "Accuracy : 86.5625 \n",
      "\n"
     ]
    },
    {
     "data": {
      "image/png": "[encoded data removed]",
      "text/plain": [
       "<Figure size 432x288 with 2 Axes>"
      ]
     },
     "metadata": {
      "needs_background": "light"
     },
     "output_type": "display_data"
    },
    {
     "name": "stdout",
     "output_type": "stream",
     "text": [
      "\n",
      "\n",
      "Classification report : \n",
      "              precision    recall  f1-score   support\n",
      "\n",
      "    Negative       0.86      0.87      0.86      3941\n",
      "    Positive       0.87      0.87      0.87      4059\n",
      "\n",
      "    accuracy                           0.87      8000\n",
      "   macro avg       0.87      0.87      0.87      8000\n",
      "weighted avg       0.87      0.87      0.87      8000\n",
      "\n"
     ]
    }
   ],
   "source": [
    "logreg_classifier = LogisticRegression(class_weight='balanced',solver='liblinear')\n",
    "logreg_classifier.fit(X_train_dm,y_train)\n",
    "predictions = logreg_classifier.predict(X_test_dm)\n",
    "evaluate_performance(y_test,predictions)"
   ]
  },
  {
   "cell_type": "code",
   "execution_count": 22,
   "metadata": {
    "execution": {
     "iopub.execute_input": "2022-02-24T07:03:38.374074Z",
     "iopub.status.busy": "2022-02-24T07:03:38.373765Z",
     "iopub.status.idle": "2022-02-24T07:03:48.100808Z",
     "shell.execute_reply": "2022-02-24T07:03:48.100058Z",
     "shell.execute_reply.started": "2022-02-24T07:03:38.374037Z"
    }
   },
   "outputs": [
    {
     "name": "stdout",
     "output_type": "stream",
     "text": [
      "Accuracy : 85.6875 \n",
      "\n"
     ]
    },
    {
     "name": "stderr",
     "output_type": "stream",
     "text": [
      "/Users/denis/opt/anaconda3/lib/python3.8/site-packages/sklearn/svm/_base.py:1206: ConvergenceWarning: Liblinear failed to converge, increase the number of iterations.\n",
      "  warnings.warn(\n"
     ]
    },
    {
     "data": {
      "image/png": "[encoded data removed]",
      "text/plain": [
       "<Figure size 432x288 with 2 Axes>"
      ]
     },
     "metadata": {
      "needs_background": "light"
     },
     "output_type": "display_data"
    },
    {
     "name": "stdout",
     "output_type": "stream",
     "text": [
      "\n",
      "\n",
      "Classification report : \n",
      "              precision    recall  f1-score   support\n",
      "\n",
      "    Negative       0.86      0.85      0.85      3941\n",
      "    Positive       0.86      0.86      0.86      4059\n",
      "\n",
      "    accuracy                           0.86      8000\n",
      "   macro avg       0.86      0.86      0.86      8000\n",
      "weighted avg       0.86      0.86      0.86      8000\n",
      "\n"
     ]
    }
   ],
   "source": [
    "vect = CountVectorizer(max_features = 1000)\n",
    "\n",
    "X_train_dm = vect.fit_transform(X_train)\n",
    "X_test_dm = vect.transform(X_test)\n",
    "\n",
    "svm_classifier = LinearSVC()\n",
    "svm_classifier.fit(X_train_dm,y_train)\n",
    "predictions = svm_classifier.predict(X_test_dm)\n",
    "evaluate_performance(y_test,predictions)"
   ]
  },
  {
   "cell_type": "code",
   "execution_count": 23,
   "metadata": {
    "execution": {
     "iopub.execute_input": "2022-02-24T07:03:48.102470Z",
     "iopub.status.busy": "2022-02-24T07:03:48.102178Z",
     "iopub.status.idle": "2022-02-24T07:03:48.108822Z",
     "shell.execute_reply": "2022-02-24T07:03:48.108112Z",
     "shell.execute_reply.started": "2022-02-24T07:03:48.102420Z"
    }
   },
   "outputs": [
    {
     "data": {
      "text/plain": [
       "0"
      ]
     },
     "execution_count": 23,
     "metadata": {},
     "output_type": "execute_result"
    }
   ],
   "source": [
    "statement = \"The movie was totally boring. The story was dull and the editor did a horrible job at editing this movie. Should have left the jumps and scares instead of cutting it off when the time came.\"\n",
    "st_dm = vect.transform([statement])\n",
    "svm_classifier.predict(st_dm)[0]"
   ]
  },
  {
   "cell_type": "code",
   "execution_count": 24,
   "metadata": {
    "execution": {
     "iopub.execute_input": "2022-02-24T07:03:48.110491Z",
     "iopub.status.busy": "2022-02-24T07:03:48.110084Z",
     "iopub.status.idle": "2022-02-24T07:03:48.121063Z",
     "shell.execute_reply": "2022-02-24T07:03:48.120241Z",
     "shell.execute_reply.started": "2022-02-24T07:03:48.110453Z"
    }
   },
   "outputs": [
    {
     "data": {
      "text/plain": [
       "1"
      ]
     },
     "execution_count": 24,
     "metadata": {},
     "output_type": "execute_result"
    }
   ],
   "source": [
    "statement = \"I loved the way all the Spider-Man movies were pulled into 1 story. I also loved how Spider-Man saved all his villians\"\n",
    "st_dm = vect.transform([statement])\n",
    "svm_classifier.predict(st_dm)[0]"
   ]
  },
  {
   "cell_type": "code",
   "execution_count": 25,
   "metadata": {
    "execution": {
     "iopub.execute_input": "2022-02-24T07:03:48.123143Z",
     "iopub.status.busy": "2022-02-24T07:03:48.122559Z",
     "iopub.status.idle": "2022-02-24T07:03:48.130887Z",
     "shell.execute_reply": "2022-02-24T07:03:48.129958Z",
     "shell.execute_reply.started": "2022-02-24T07:03:48.123100Z"
    }
   },
   "outputs": [
    {
     "data": {
      "text/plain": [
       "1"
      ]
     },
     "execution_count": 25,
     "metadata": {},
     "output_type": "execute_result"
    }
   ],
   "source": [
    "statement = \"I could watch an entire 2.5 hour long movie about just the 3 spideys fighting villains. but the rest of the movie was good too. Something in my heart was made right seeing Andrew and Tobey in their suits again. love this movie.\"\n",
    "st_dm = vect.transform([statement])\n",
    "svm_classifier.predict(st_dm)[0]"
   ]
  },
  {
   "cell_type": "markdown",
   "metadata": {},
   "source": [
    "## Fasttext"
   ]
  },
  {
   "cell_type": "code",
   "execution_count": 48,
   "metadata": {
    "execution": {
     "iopub.execute_input": "2022-02-24T07:09:38.250263Z",
     "iopub.status.busy": "2022-02-24T07:09:38.249823Z",
     "iopub.status.idle": "2022-02-24T07:09:38.256632Z",
     "shell.execute_reply": "2022-02-24T07:09:38.255915Z",
     "shell.execute_reply.started": "2022-02-24T07:09:38.250224Z"
    }
   },
   "outputs": [],
   "source": [
    "def add_label(df):\n",
    "    rows = []\n",
    "    for row in df.iterrows():\n",
    "        if row[1][1] == 0:\n",
    "            text = ' __label__negative '\n",
    "        else:\n",
    "            text = ' __label__positive'\n",
    "        row[1][0] += row[1][0] + text\n",
    "        rows.append(row[1][0])\n",
    "    df = pd.DataFrame({'text':rows})    \n",
    "    return df"
   ]
  },
  {
   "cell_type": "code",
   "execution_count": 49,
   "metadata": {
    "execution": {
     "iopub.execute_input": "2022-02-24T07:09:38.258626Z",
     "iopub.status.busy": "2022-02-24T07:09:38.258019Z",
     "iopub.status.idle": "2022-02-24T07:09:40.885228Z",
     "shell.execute_reply": "2022-02-24T07:09:40.884427Z",
     "shell.execute_reply.started": "2022-02-24T07:09:38.258586Z"
    }
   },
   "outputs": [],
   "source": [
    "df_1= df.copy()\n",
    "df_1 = add_label(df_1)"
   ]
  },
  {
   "cell_type": "code",
   "execution_count": 50,
   "metadata": {
    "execution": {
     "iopub.execute_input": "2022-02-24T07:09:40.886782Z",
     "iopub.status.busy": "2022-02-24T07:09:40.886521Z",
     "iopub.status.idle": "2022-02-24T07:09:40.897980Z",
     "shell.execute_reply": "2022-02-24T07:09:40.897101Z",
     "shell.execute_reply.started": "2022-02-24T07:09:40.886748Z"
    }
   },
   "outputs": [],
   "source": [
    "X_train,X_test = train_test_split(df_1,test_size=0.2,random_state=0)"
   ]
  },
  {
   "cell_type": "code",
   "execution_count": 51,
   "metadata": {
    "execution": {
     "iopub.execute_input": "2022-02-24T07:09:40.900851Z",
     "iopub.status.busy": "2022-02-24T07:09:40.900536Z",
     "iopub.status.idle": "2022-02-24T07:09:43.192902Z",
     "shell.execute_reply": "2022-02-24T07:09:43.192076Z",
     "shell.execute_reply.started": "2022-02-24T07:09:40.900815Z"
    }
   },
   "outputs": [],
   "source": [
    "train_file = './train.csv'\n",
    "X_train.to_csv(train_file, header=None, index=False, columns=['text'] )\n",
    "\n",
    "test_file = './test.csv'\n",
    "X_test.to_csv(test_file, header=None, index=False, columns=['text'])"
   ]
  },
  {
   "cell_type": "code",
   "execution_count": 52,
   "metadata": {
    "execution": {
     "iopub.execute_input": "2022-02-24T07:12:38.367717Z",
     "iopub.status.busy": "2022-02-24T07:12:38.367136Z",
     "iopub.status.idle": "2022-02-24T07:16:05.068091Z",
     "shell.execute_reply": "2022-02-24T07:16:05.067266Z",
     "shell.execute_reply.started": "2022-02-24T07:12:38.367680Z"
    }
   },
   "outputs": [],
   "source": [
    "model = fasttext.train_supervised(input=train_file,lr=1.0, epoch=75, loss='hs', wordNgrams=2, dim=200, thread=2, verbose=100)"
   ]
  },
  {
   "cell_type": "code",
   "execution_count": 53,
   "metadata": {
    "execution": {
     "iopub.execute_input": "2022-02-24T07:16:05.070192Z",
     "iopub.status.busy": "2022-02-24T07:16:05.069767Z",
     "iopub.status.idle": "2022-02-24T07:16:05.076918Z",
     "shell.execute_reply": "2022-02-24T07:16:05.076137Z",
     "shell.execute_reply.started": "2022-02-24T07:16:05.070154Z"
    }
   },
   "outputs": [
    {
     "data": {
      "text/plain": [
       "['__label__negative', '__label__positive']"
      ]
     },
     "execution_count": 53,
     "metadata": {},
     "output_type": "execute_result"
    }
   ],
   "source": [
    "model.labels"
   ]
  },
  {
   "cell_type": "code",
   "execution_count": 54,
   "metadata": {
    "execution": {
     "iopub.execute_input": "2022-02-24T07:18:33.567885Z",
     "iopub.status.busy": "2022-02-24T07:18:33.567359Z",
     "iopub.status.idle": "2022-02-24T07:18:34.245935Z",
     "shell.execute_reply": "2022-02-24T07:18:34.245106Z",
     "shell.execute_reply.started": "2022-02-24T07:18:33.567849Z"
    }
   },
   "outputs": [],
   "source": [
    "results = model.test(test_file)"
   ]
  },
  {
   "cell_type": "code",
   "execution_count": 55,
   "metadata": {
    "execution": {
     "iopub.execute_input": "2022-02-24T07:19:02.026267Z",
     "iopub.status.busy": "2022-02-24T07:19:02.025970Z",
     "iopub.status.idle": "2022-02-24T07:19:02.031025Z",
     "shell.execute_reply": "2022-02-24T07:19:02.030324Z",
     "shell.execute_reply.started": "2022-02-24T07:19:02.026234Z"
    }
   },
   "outputs": [
    {
     "name": "stdout",
     "output_type": "stream",
     "text": [
      "Test Samples: 8000 Precision : 89.2500 Recall : 89.2500\n"
     ]
    }
   ],
   "source": [
    "print(f\"Test Samples: {results[0]} Precision : {results[1]*100:2.4f} Recall : {results[2]*100:2.4f}\")"
   ]
  },
  {
   "cell_type": "code",
   "execution_count": 56,
   "metadata": {
    "execution": {
     "iopub.execute_input": "2022-02-24T07:19:53.321289Z",
     "iopub.status.busy": "2022-02-24T07:19:53.320768Z",
     "iopub.status.idle": "2022-02-24T07:19:53.327814Z",
     "shell.execute_reply": "2022-02-24T07:19:53.327123Z",
     "shell.execute_reply.started": "2022-02-24T07:19:53.321254Z"
    }
   },
   "outputs": [
    {
     "data": {
      "text/plain": [
       "(('__label__negative',), array([1.00001001]))"
      ]
     },
     "execution_count": 56,
     "metadata": {},
     "output_type": "execute_result"
    }
   ],
   "source": [
    "statement = \"The movie was totally boring. The story was dull and the editor did a horrible job at editing this movie. Should have left the jumps and scares instead of cutting it off when the time came.\"\n",
    "model.predict(statement)"
   ]
  },
  {
   "cell_type": "code",
   "execution_count": 57,
   "metadata": {
    "execution": {
     "iopub.execute_input": "2022-02-24T07:20:12.270879Z",
     "iopub.status.busy": "2022-02-24T07:20:12.270606Z",
     "iopub.status.idle": "2022-02-24T07:20:12.277192Z",
     "shell.execute_reply": "2022-02-24T07:20:12.276338Z",
     "shell.execute_reply.started": "2022-02-24T07:20:12.270850Z"
    }
   },
   "outputs": [
    {
     "data": {
      "text/plain": [
       "(('__label__positive',), array([1.00001001]))"
      ]
     },
     "execution_count": 57,
     "metadata": {},
     "output_type": "execute_result"
    }
   ],
   "source": [
    "statement = \"I loved the way all the Spider-Man movies were pulled into 1 story. I also loved how Spider-Man saved all his villians\"\n",
    "model.predict(statement)"
   ]
  },
  {
   "cell_type": "code",
   "execution_count": 58,
   "metadata": {
    "execution": {
     "iopub.execute_input": "2022-02-24T07:20:31.629694Z",
     "iopub.status.busy": "2022-02-24T07:20:31.629433Z",
     "iopub.status.idle": "2022-02-24T07:20:31.635892Z",
     "shell.execute_reply": "2022-02-24T07:20:31.635047Z",
     "shell.execute_reply.started": "2022-02-24T07:20:31.629668Z"
    }
   },
   "outputs": [
    {
     "data": {
      "text/plain": [
       "(('__label__positive',), array([0.99074477]))"
      ]
     },
     "execution_count": 58,
     "metadata": {},
     "output_type": "execute_result"
    }
   ],
   "source": [
    "statement = \"I could watch an entire 2.5 hour long movie about just the 3 spideys fighting villains. but the rest of the movie was good too. Something in my heart was made right seeing Andrew and Tobey in their suits again. love this movie.\"\n",
    "model.predict(statement)"
   ]
  },
  {
   "cell_type": "code",
   "execution_count": null,
   "metadata": {},
   "outputs": [],
   "source": [
    "# the model correctly assessed the reviews"
   ]
  },
  {
   "cell_type": "code",
   "execution_count": null,
   "metadata": {},
   "outputs": [],
   "source": []
  }
 ],
 "metadata": {
  "kernelspec": {
   "display_name": "Python 3",
   "language": "python",
   "name": "python3"
  },
  "language_info": {
   "codemirror_mode": {
    "name": "ipython",
    "version": 3
   },
   "file_extension": ".py",
   "mimetype": "text/x-python",
   "name": "python",
   "nbconvert_exporter": "python",
   "pygments_lexer": "ipython3",
   "version": "3.8.8"
  }
 },
 "nbformat": 4,
 "nbformat_minor": 4
}
